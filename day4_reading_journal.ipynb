{
 "cells": [
  {
   "cell_type": "markdown",
   "metadata": {},
   "source": [
    "# Day 4 Reading Journal\n",
    "\n",
    "This journal includes several required exercises, but it is meant to encourage active reading more generally.  You should use the journal to take detailed notes, catalog questions, and explore the content from Think Python deeply.\n",
    "\n",
    "Reading: Think Python Chapter 10\n",
    "\n",
    "**Due: Thursday, February 4 at 12 noon**\n",
    "\n"
   ]
  },
  {
   "cell_type": "markdown",
   "metadata": {},
   "source": [
    "## [Chapter 10](http://www.greenteapress.com/thinkpython/html/thinkpython011.html)\n",
    "\n",
    "You may want to review [state diagrams in Chapter 2](http://www.greenteapress.com/thinkpython/html/thinkpython003.html#toc13). [Python Tutor](http://pythontutor.com/) is also helpful for visualizing the state of your program.\n",
    "\n"
   ]
  },
  {
   "cell_type": "markdown",
   "metadata": {},
   "source": [
    "**10.7**\n",
    "- += is augmented assignment statement\n",
    "- variable used like that called accumulator\n",
    "- sum exists, works on lists\n",
    "- operation that combines sequence of elements into single value is reduce\n",
    "- operations that map a function onto each element in a sequence is called a map\n",
    "- filters select some elements and filter out others"
   ]
  },
  {
   "cell_type": "markdown",
   "metadata": {},
   "source": [
    "**10.8**\n",
    "- pop modifies list and returns removed element\n",
    "- del just removes element by index\n",
    "- remove just removes the element without index\n",
    "- del with slice index works"
   ]
  },
  {
   "cell_type": "markdown",
   "metadata": {},
   "source": [
    "### Exercise 4  \n",
    "Write a function called `middle` that takes a list and returns a new list that contains all but the first and last elements. So `middle([1,2,3,4])` should return `[2,3]`."
   ]
  },
  {
   "cell_type": "code",
   "execution_count": 4,
   "metadata": {
    "collapsed": false
   },
   "outputs": [
    {
     "data": {
      "text/plain": [
       "[2, 3, 4, 5, 6, 7, 8]"
      ]
     },
     "execution_count": 4,
     "metadata": {},
     "output_type": "execute_result"
    }
   ],
   "source": [
    "def middle(Input_list):\n",
    "    Output_list = Input_list[1:-1]\n",
    "    return Output_list\n",
    "\n",
    "middle([1,2,3,4,5,6,7,8,9])"
   ]
  },
  {
   "cell_type": "markdown",
   "metadata": {},
   "source": [
    "### Exercise 5  \n",
    "Write a function called `chop` that takes a list, modifies it by removing the first and last elements, and returns `None`.\n",
    "\n",
    "What is the difference between `middle` and `chop`? Sketch out the program state or take a look at each in Python Tutor."
   ]
  },
  {
   "cell_type": "code",
   "execution_count": 59,
   "metadata": {
    "collapsed": false
   },
   "outputs": [],
   "source": [
    "def chop(Input_list):\n",
    "    del Input_list[0]\n",
    "    del Input_list[-1]\n",
    "    return None\n",
    "\n",
    "chop([1,2,3,4,5,6,7,8,9])"
   ]
  },
  {
   "cell_type": "markdown",
   "metadata": {},
   "source": [
    "**10.9**\n",
    "- use list to convert from string to list of characters\n",
    "- split breaks string into words\n",
    "- delimiter specifies which characters to use as word boundaries\n",
    "- join is inverse of split"
   ]
  },
  {
   "cell_type": "markdown",
   "metadata": {},
   "source": [
    "**10.10**\n",
    "- to check if two variables refer to two different objects or to same object, use is operator\n",
    "- two equivalent lists assigned to different variables is still two different objects: not identical\n",
    "- an object has a value"
   ]
  },
  {
   "cell_type": "markdown",
   "metadata": {},
   "source": [
    "**10.11**\n",
    "- association of variable with object called reference\n",
    "- object with more than one reference has more than one name, so object is aliased\n",
    "- if aliased object is mutable, changes made with one alias affect the other\n",
    "- safer to avoid aliasing when working with mutable objects\n",
    "- aliasing doesn't really do a lot with immutable objects"
   ]
  },
  {
   "cell_type": "markdown",
   "metadata": {},
   "source": [
    "**10.12**\n",
    "- passing a list to a function, function gets reference to list: if function modifies list parameter, caller gets to see change  \n",
    "       def delete_head(t):  \n",
    "           del t[0]\n",
    "- if run delete_head(letters), parameter t and variable letters are aliases for same object\n",
    "- distinguish between operations that modify lists and operations that create new lists"
   ]
  },
  {
   "cell_type": "markdown",
   "metadata": {},
   "source": [
    "**10.13**\n",
    "- list methods modify arguments and return None\n",
    "- string methods return a new string and leave original alone\n",
    "- there are lots of ways to do things. choose one and stick with it\n",
    "- make copies to avoid aliasing"
   ]
  },
  {
   "cell_type": "markdown",
   "metadata": {},
   "source": [
    "### Exercise 7  \n",
    "Two words are anagrams if you can rearrange the letters from one to spell the other. Write a function called `is_anagram` that takes two strings and returns `True` if they are anagrams."
   ]
  },
  {
   "cell_type": "code",
   "execution_count": 24,
   "metadata": {
    "collapsed": false
   },
   "outputs": [
    {
     "data": {
      "text/plain": [
       "False"
      ]
     },
     "execution_count": 24,
     "metadata": {},
     "output_type": "execute_result"
    }
   ],
   "source": [
    "def is_anagram(str_1, str_2):\n",
    "    Str_1 = list(str_1)\n",
    "    Str_2 = list(str_2)\n",
    "    Str_1.sort()\n",
    "    Str_2.sort()\n",
    "    return Str_1 == Str_2\n",
    "    \n",
    "\n",
    "is_anagram('spanish','smash')"
   ]
  },
  {
   "cell_type": "markdown",
   "metadata": {},
   "source": [
    "### Exercise 8  \n",
    "The (so-called) Birthday Paradox:\n",
    "1. Write a function called `has_duplicates` that takes a list and returns `True` if there is any element that appears more than once. It should not modify the original list.\n",
    "2. If there are 23 students in your class, what are the chances that two of you have the same birthday? You can estimate this probability by generating random samples of 23 birthdays and checking for matches. Hint: you can generate random birthdays with the randint function in the [random module](https://docs.python.org/2/library/random.html).\n",
    "\n",
    "You can read about this problem at http://en.wikipedia.org/wiki/Birthday_paradox, and you can download Allen's solution from http://thinkpython.com/code/birthday.py."
   ]
  },
  {
   "cell_type": "code",
   "execution_count": 51,
   "metadata": {
    "collapsed": false
   },
   "outputs": [
    {
     "data": {
      "text/plain": [
       "'50.697 %'"
      ]
     },
     "execution_count": 51,
     "metadata": {},
     "output_type": "execute_result"
    }
   ],
   "source": [
    "import random\n",
    "\n",
    "def has_duplicates(input_list):\n",
    "    sorted_list = input_list[:]\n",
    "    sorted_list.sort()\n",
    "    i = 0\n",
    "    while i < len(sorted_list)-1:\n",
    "        if sorted_list[i] == sorted_list[i+1]:\n",
    "            return True\n",
    "        i += 1\n",
    "    return False\n",
    "\n",
    "def random_birthdays(num_people):\n",
    "    n = 0\n",
    "    Birthdays = []\n",
    "    for n in range(0,num_people):\n",
    "        Birthdays.append(random.randint(1,366))\n",
    "    return Birthdays\n",
    "\n",
    "def same_birthday(num_people, iterations):\n",
    "    i = 0\n",
    "    same_birthdays = 0.\n",
    "    while i < iterations:\n",
    "        Birthdays = random_birthdays(num_people)\n",
    "        if has_duplicates(Birthdays):\n",
    "            same_birthdays += 1\n",
    "            i += 1\n",
    "        else:\n",
    "            i += 1\n",
    "    prob = same_birthdays/iterations\n",
    "    return str(prob*100) + ' %'\n",
    "    \n",
    "\n",
    "same_birthday(23,100000)\n"
   ]
  },
  {
   "cell_type": "markdown",
   "metadata": {},
   "source": [
    "### Challenge: Exercise 11 (optional)\n",
    "\n",
    "You should read [Chapter 9.1](http://www.greenteapress.com/thinkpython/html/thinkpython010.html) and do Exercise 1 first.\n",
    "\n",
    "To check whether a word is in the word list, you could use the `in` operator, but it would be relatively slow because it searches through the words in order (try it).\n",
    "\n",
    "Because the words are in alphabetical order, we can speed things up with a bisection search (also known as binary search), which is similar to what you do when you look a word up in the dictionary. You start in the middle and check to see whether the word you are looking for comes before the word in the middle of the list. If so, then you search the first half of the list the same way. Otherwise you search the second half.\n",
    "\n",
    "Either way, you cut the remaining search space in half. If the word list has 113,809 words, it will take about 17 steps to find the word or conclude that it’s not there.\n",
    "\n",
    "Write a function called `bisect` that takes a sorted list and a target value and returns the index of the value in the list, if it’s there, or `None` if it’s not.\n",
    "\n",
    "Or you could read the documentation of the `bisect` module and use that! Solution: http://thinkpython.com/code/inlist.py."
   ]
  },
  {
   "cell_type": "code",
   "execution_count": 64,
   "metadata": {
    "collapsed": false
   },
   "outputs": [
    {
     "data": {
      "text/plain": [
       "1"
      ]
     },
     "execution_count": 64,
     "metadata": {},
     "output_type": "execute_result"
    }
   ],
   "source": [
    "def bisect(thing,sorted_list):\n",
    "    length = len(sorted_list)\n",
    "    i = int(length/2)\n",
    "    if (i == 0) and (sorted_list[0] == thing):\n",
    "        answer = i\n",
    "    elif i == 0 and sorted_list[0] != thing:\n",
    "        answer = None\n",
    "    elif sorted_list[i] == thing:\n",
    "        answer = i\n",
    "    elif sorted_list[i] < thing:\n",
    "        answer = bisect(thing,sorted_list[i:])\n",
    "    elif sorted_list[i] > thing:\n",
    "        answer = bisect(thing,sorted_list[:i])\n",
    "    return answer\n",
    "\n",
    "bisect(2,[1,2,3])"
   ]
  },
  {
   "cell_type": "markdown",
   "metadata": {},
   "source": [
    "## Reading Journal feedback\n",
    "\n",
    "Have any comments on this Reading Journal? Feel free to leave them below and we'll read them when you submit your journal entry. This could include suggestions to improve the exercises, topics you'd like to see covered in class next time, or other feedback.\n",
    "\n",
    "If you have Python questions or run into problems while completing the reading, you should post them to Piazza instead so you can get a quick response before your journal is submitted."
   ]
  },
  {
   "cell_type": "markdown",
   "metadata": {},
   "source": [
    " "
   ]
  }
 ],
 "metadata": {
  "kernelspec": {
   "display_name": "Python 2",
   "language": "python",
   "name": "python2"
  },
  "language_info": {
   "codemirror_mode": {
    "name": "ipython",
    "version": 2
   },
   "file_extension": ".py",
   "mimetype": "text/x-python",
   "name": "python",
   "nbconvert_exporter": "python",
   "pygments_lexer": "ipython2",
   "version": "2.7.6"
  }
 },
 "nbformat": 4,
 "nbformat_minor": 0
}
