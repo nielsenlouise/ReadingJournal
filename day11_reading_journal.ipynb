{
 "cells": [
  {
   "cell_type": "markdown",
   "metadata": {},
   "source": [
    "# Day 11 Reading Journal\n",
    "\n",
    "This journal includes several required exercises, but it is meant to encourage active reading more generally.  You should use the journal to take detailed notes, catalog questions, and explore the content from Think Python deeply.\n",
    "\n",
    "Reading: Review Think Python Chapters 15-17\n",
    "\n",
    "**Due: Monday, February 29 at 12 noon**\n",
    "\n"
   ]
  },
  {
   "cell_type": "markdown",
   "metadata": {},
   "source": [
    "## [Chapter 15](http://www.greenteapress.com/thinkpython/html/thinkpython016.html), [Chapter 16](http://www.greenteapress.com/thinkpython/html/thinkpython017.html), [Chapter 17](http://www.greenteapress.com/thinkpython/html/thinkpython018.html)\n",
    "\n",
    "\n",
    "By the end of chapter 17, we have all the tools we need to create our own user-defined types known as classes. In this reading journal, we're asking you to review and solidify your understanding of this material so we can build on it for the rest of the course. \n",
    "\n",
    "If you didn't get a chance to fully complete the Day 10 reading journal, you may want to do so now."
   ]
  },
  {
   "cell_type": "markdown",
   "metadata": {
    "problem": "Terminology"
   },
   "source": [
    "### Terminology\n",
    "\n",
    "You should be familiar with the following list of terms and concepts. If any of them are unclear to you, re-read, ask, write a definition in your own words, and try an example if appropriate.\n",
    "\n",
    " - class\n",
    " - object\n",
    " - instance\n",
    " - attribute\n",
    " - method\n",
    " - shallow vs deep copying\n",
    " - pure functions vs modifiers\n",
    " - initializing object instances\n",
    " "
   ]
  },
  {
   "cell_type": "markdown",
   "metadata": {
    "is_question": true,
    "problem": "Exercise 1"
   },
   "source": [
    "### Exercise\n",
    "\n",
    "We're going to take the first steps toward writing a calendar application. To keep things simple, we'll restrict ourselves to a single day for now. Write an `Event` class with the following attributes:\n",
    "\n",
    " - `name`  : Title for the `Event`\n",
    " - `start` : `Time` object representing the start time for the `Event`\n",
    " - `end`   : `Time` object representing the end time for the `Event`\n",
    "\n",
    "You can also augment your `Event` class with additional attributes, such as location and attendees.\n",
    "\n",
    "Write `__init__` and `__str__` methods for your `Event` class."
   ]
  },
  {
   "cell_type": "code",
   "execution_count": 2,
   "metadata": {
    "collapsed": true
   },
   "outputs": [],
   "source": [
    "# i'm copying allen's Time class definition here\n",
    "class Time(object):\n",
    "    \"\"\"Represents the time of day.\n",
    "       \n",
    "    attributes: hour, minute, second\n",
    "    \"\"\"\n",
    "    def __init__(self, hour=0, minute=0, second=0):\n",
    "        minutes = hour * 60 + minute\n",
    "        self.seconds = minutes * 60 + second\n",
    "\n",
    "    def __str__(self):\n",
    "        minutes, second = divmod(self.seconds, 60)\n",
    "        hour, minute = divmod(minutes, 60)\n",
    "        return '%.2d:%.2d:%.2d' % (hour, minute, second)\n",
    "\n",
    "    def print_time(self):\n",
    "        print str(self)\n",
    "\n",
    "    def time_to_int(self):\n",
    "        \"\"\"Computes the number of seconds since midnight.\"\"\"\n",
    "        return self.seconds\n",
    "\n",
    "    def is_after(self, other):\n",
    "        \"\"\"Returns True if t1 is after t2; false otherwise.\"\"\"\n",
    "        return self.seconds > other.seconds\n",
    "\n",
    "    def __add__(self, other):\n",
    "        \"\"\"Adds two Time objects or a Time object and a number.\n",
    "\n",
    "        other: Time object or number of seconds\n",
    "        \"\"\"\n",
    "        if isinstance(other, Time):\n",
    "            return self.add_time(other)\n",
    "        else:\n",
    "            return self.increment(other)\n",
    "\n",
    "    def __radd__(self, other):\n",
    "        \"\"\"Adds two Time objects or a Time object and a number.\"\"\"\n",
    "        return self.__add__(other)\n",
    "\n",
    "    def add_time(self, other):\n",
    "        \"\"\"Adds two time objects.\"\"\"\n",
    "        assert self.is_valid() and other.is_valid()\n",
    "        seconds = self.seconds + other.seconds\n",
    "        return int_to_time(seconds)\n",
    "\n",
    "    def increment(self, seconds):\n",
    "        \"\"\"Returns a new Time that is the sum of this time and seconds.\"\"\"\n",
    "        seconds += self.seconds\n",
    "        return int_to_time(seconds)\n",
    "\n",
    "    def is_valid(self):\n",
    "        \"\"\"Checks whether a Time object satisfies the invariants.\"\"\"\n",
    "        return self.seconds >= 0 and self.seconds < 24*60*60\n",
    "\n",
    "\n",
    "def int_to_time(seconds):\n",
    "    \"\"\"Makes a new Time object.\n",
    "\n",
    "    seconds: int seconds since midnight.\n",
    "    \"\"\"\n",
    "    return Time(0, 0, seconds)"
   ]
  },
  {
   "cell_type": "code",
   "execution_count": 3,
   "metadata": {
    "collapsed": false,
    "solution": "Exercise 1"
   },
   "outputs": [
    {
     "name": "stdout",
     "output_type": "stream",
     "text": [
      "Software Design <__main__.Event object at 0x7f75e40ce7d0>\n",
      "    From 13:30:00 until 15:10:00\n",
      "\n",
      "Software Design <__main__.Event object at 0x7f75e40ce7d0>\n",
      "    From 13:30:00 until 15:10:00\n",
      "    Location: AC 326\n",
      "\n",
      "Software Design <__main__.Event object at 0x7f75e40ce7d0>\n",
      "    From 13:30:00 until 15:10:00\n",
      "    Location: AC 326\n",
      "    Attendees: ['Ben, my advisor', 'Paul, an instructor', 'Oliver, likely an instructor', 'Interesting Oliners']\n"
     ]
    }
   ],
   "source": [
    "class Event(object):\n",
    "    \"\"\"has attributes:\n",
    "    name (title for the Event)\n",
    "    start (Time object representing start time for the Event)\n",
    "    end (Time object representing end time for the Event)\n",
    "    \"\"\"\n",
    "    def __init__(self, name, start, end, location='', attendees=None):\n",
    "        self.name = name\n",
    "        self.start = start\n",
    "        self.end = end\n",
    "        self.location = location\n",
    "        if not attendees:\n",
    "            self.attendees = []\n",
    "        else:\n",
    "            self.attendees = [attendees]\n",
    "    \n",
    "    def __str__(self):\n",
    "        x = [self.name + ' ' + object.__str__(self), '    From {} until {}'.format(Time.__str__(self.start), Time.__str__(self.end))]\n",
    "        if self.location:\n",
    "            x.append('    Location: {}'.format(self.location))\n",
    "        if self.attendees:\n",
    "            x.append('    Attendees: {}'.format(self.attendees))\n",
    "        return '\\n'.join(x)\n",
    "\n",
    "beginning = Time(13, 30, 0)\n",
    "end = Time(15, 10, 0)\n",
    "class_today = Event('Software Design', beginning, end)\n",
    "print class_today\n",
    "print ''\n",
    "class_today.location = 'AC 326'\n",
    "print class_today\n",
    "print ''\n",
    "class_today.attendees = ['Ben, my advisor', 'Paul, an instructor', 'Oliver, likely an instructor', 'Interesting Oliners']\n",
    "print class_today"
   ]
  },
  {
   "cell_type": "markdown",
   "metadata": {
    "is_question": true,
    "problem": "Exercise 2"
   },
   "source": [
    "### Exercise\n",
    "\n",
    "Write a `duration` method that returns the duration of the `Event` in minutes."
   ]
  },
  {
   "cell_type": "code",
   "execution_count": 107,
   "metadata": {
    "collapsed": false,
    "solution": "Exercise 2"
   },
   "outputs": [
    {
     "name": "stdout",
     "output_type": "stream",
     "text": [
      "01:40:00\n"
     ]
    }
   ],
   "source": [
    "class Event(object):\n",
    "    \"\"\"has attributes:\n",
    "    name (title for the Event)\n",
    "    start (Time object representing start time for the Event)\n",
    "    end (Time object representing end time for the Event)\n",
    "    \"\"\"\n",
    "    def __init__(self, name, start, end, location='', attendees=None):\n",
    "        self.name = name\n",
    "        self.start = start\n",
    "        self.end = end\n",
    "        self.location = location\n",
    "        if not attendees:\n",
    "            self.attendees = []\n",
    "        else:\n",
    "            self.attendees = attendees\n",
    "    \n",
    "    def __str__(self):\n",
    "        x = [self.name + ' ' + object.__str__(self), '    From {} until {}'.format(Time.__str__(self.start), Time.__str__(self.end))]\n",
    "        if self.location:\n",
    "            x.append('    Location: {}'.format(self.location))\n",
    "        if self.attendees:\n",
    "            x.append('    Attendees: {}'.format(self.attendees))\n",
    "        return '\\n'.join(x)\n",
    "    \n",
    "    def duration(self):\n",
    "        return int_to_time(Time.time_to_int(self.end) - Time.time_to_int(self.start))\n",
    "\n",
    "\n",
    "beginning = Time(13, 30, 0)\n",
    "end = Time(15, 10, 0)\n",
    "class_today = Event('Software Design', beginning, end, 'AC 326', ['Ben, my advisor', 'Paul, an instructor', 'Oliver, likely an instructor', 'Interesting Oliners'])\n",
    "print Event.duration(class_today)"
   ]
  },
  {
   "cell_type": "markdown",
   "metadata": {
    "is_question": true,
    "problem": "Exercise 3"
   },
   "source": [
    "### Exercise\n",
    "\n",
    "Write an `Agenda` class that contains several `Event`s for the day.\n",
    "\n",
    "**Quick check: ** How should you store `Event`s within your `Agenda` class?\n",
    "\n",
    "Your `Agenda` class should include a `print_agenda` method that prints out your schedule for the day, in order.\n",
    "\n",
    "**Optional:** Include a `is_feasible` method that returns `True` if your schedule has no time conflicts. You may want to write additional helper methods for the `Event` class to make this easier."
   ]
  },
  {
   "cell_type": "code",
   "execution_count": 252,
   "metadata": {
    "collapsed": false,
    "solution": "Exercise 3"
   },
   "outputs": [
    {
     "name": "stdout",
     "output_type": "stream",
     "text": [
      "Monday <__main__.Agenda object at 0x7f75d6cebfd0> with these events:\n",
      "Linearity 1 <__main__.Event object at 0x7f75d6cebd50>\n",
      "    From 09:00:00 until 10:40:00\n",
      "    Location: AC 326\n",
      "    Attendees: ['Oscar, an instructor', 'Interesting Oliners', 'maybe Aaron', 'several NINJAs']\n",
      "OPEN Lunch <__main__.Event object at 0x7f75d6cebe10>\n",
      "    From 12:30:00 until 13:30:00\n",
      "    Location: Dining Hall\n",
      "    Attendees: ['Charlie, provider of flag', 'Interesting Oliners', 'terrible food']\n",
      "Software Design <__main__.Event object at 0x7f75d6cebed0>\n",
      "    From 13:30:00 until 15:10:00\n",
      "    Location: AC 326\n",
      "    Attendees: ['Ben, my advisor', 'Paul, an instructor', 'Oliver, likely an instructor', 'Interesting Oliners']\n",
      "Coastal Navigation <__main__.Event object at 0x7f75d6cebf90>\n",
      "    From 19:00:00 until 20:00:00\n",
      "    Location: AC 326\n",
      "    Attendees: ['John, the person who does the thing', 'Interesting Oliners', 'a person named Alex I think']\n",
      "ORS <__main__.Event object at 0x7f75d6cf1090>\n",
      "    From 21:00:00 until 23:00:00\n",
      "    Location: LPB\n",
      "    Attendees: ['Amanda, the project lead', 'William, my subteam lead', \"Not Me, because I'm terrible\"]\n"
     ]
    }
   ],
   "source": [
    "def get_key(item):\n",
    "    return item[1]\n",
    "\n",
    "class Agenda(object):\n",
    "    \"\"\"has attributes:\n",
    "    day\n",
    "    Events (a list of Events for the day)\n",
    "    \"\"\"\n",
    "    \n",
    "    def __init__(self, day, events=None):\n",
    "        self.day = day\n",
    "        if not events:\n",
    "            self.events = []\n",
    "        else:\n",
    "            self.events = events\n",
    "    \n",
    "    def __str__(self):\n",
    "        t = [self.day + ' ' + object.__str__(self) + ' with these events:']\n",
    "        self.events.sort(key = lambda x: x.start, reverse=False)\n",
    "        for x in self.events:\n",
    "            t.append(str(x))\n",
    "        return '\\n'.join(t)\n",
    "    \n",
    "    def print_agenda(self):\n",
    "        t = [self.day + ' ' + object.__str__(self) + ' with these events:']\n",
    "        new_events = sorted(self.events, key = lambda x: x.start)\n",
    "        for x in new_events:\n",
    "            t.append(str(x))\n",
    "        print '\\n'.join(t)\n",
    "\n",
    "lin1 = Event('Linearity 1', Time(9), Time(10,40), 'AC 326', ['Oscar, an instructor', 'Interesting Oliners', 'maybe Aaron', 'several NINJAs'])\n",
    "lunch = Event('OPEN Lunch', Time(12, 30), Time(13, 30), 'Dining Hall', ['Charlie, provider of flag', 'Interesting Oliners', 'terrible food'])\n",
    "softdes = Event('Software Design', Time(13, 30), Time(15, 10), 'AC 326', ['Ben, my advisor', 'Paul, an instructor', 'Oliver, likely an instructor', 'Interesting Oliners'])\n",
    "cocurricular = Event('Coastal Navigation', Time(19), Time(20), 'AC 326', ['John, the person who does the thing', 'Interesting Oliners', 'a person named Alex I think'])\n",
    "ors = Event('ORS', Time(21), Time(23), 'LPB', ['Amanda, the project lead', 'William, my subteam lead', \"Not Me, because I'm terrible\"])\n",
    "\n",
    "list_events = [ors, lin1, softdes, cocurricular, lunch]\n",
    "new_list = sorted(list_events)\n",
    "\n",
    "today = Agenda('Monday', [lunch, softdes, lin1, cocurricular, ors])\n",
    "Agenda.print_agenda(today)\n",
    "# print lin1.start > lunch.start\n",
    "# print today"
   ]
  },
  {
   "cell_type": "markdown",
   "metadata": {
    "is_question": true,
    "problem": "Exercise 4"
   },
   "source": [
    "### Going Beyond (optional)\n",
    "\n",
    "Some ideas for taking your application further:\n",
    " - Add people and/or places to the mix to create a scheduling assistant\n",
    " - Extend support for day-of-week or full date. A word of warning: dealing with dates and times in real applications is difficult due to the huge number of special cases (Perfect example: this reading journal is due on Leap Day). Consider using something like the Python [datetime](https://docs.python.org/2/library/datetime.html) module.\n",
    " - Use pickle or some other persistence strategy to save and load your `Agenda`."
   ]
  },
  {
   "cell_type": "code",
   "execution_count": null,
   "metadata": {
    "collapsed": true,
    "solution": "Exercise 4"
   },
   "outputs": [],
   "source": []
  },
  {
   "cell_type": "markdown",
   "metadata": {
    "is_poll": true,
    "is_question": true,
    "problem": "Time spent"
   },
   "source": [
    "## Quick poll\n",
    "About how long did you spend working on this Reading Journal?"
   ]
  },
  {
   "cell_type": "markdown",
   "metadata": {
    "poll_response": true,
    "solution": "Time spent"
   },
   "source": [
    "120 "
   ]
  },
  {
   "cell_type": "markdown",
   "metadata": {
    "is_question": true,
    "problem": "Feedback"
   },
   "source": [
    "## Reading Journal feedback\n",
    "\n",
    "Have any comments on this Reading Journal? Feel free to leave them below and we'll read them when you submit your journal entry. This could include suggestions to improve the exercises, topics you'd like to see covered in class next time, or other feedback.\n",
    "\n",
    "If you have Python questions or run into problems while completing the reading, you should post them to Piazza instead so you can get a quick response before your journal is submitted."
   ]
  },
  {
   "cell_type": "markdown",
   "metadata": {
    "feedback_response": true,
    "solution": "Feedback"
   },
   "source": [
    "is there a way to not have to copy-paste my entire class definition into the next cell when i have to define a new method for the class? "
   ]
  }
 ],
 "metadata": {
  "celltoolbar": "Edit Metadata",
  "kernelspec": {
   "display_name": "Python 2",
   "language": "python",
   "name": "python2"
  },
  "language_info": {
   "codemirror_mode": {
    "name": "ipython",
    "version": 2
   },
   "file_extension": ".py",
   "mimetype": "text/x-python",
   "name": "python",
   "nbconvert_exporter": "python",
   "pygments_lexer": "ipython2",
   "version": "2.7.6"
  }
 },
 "nbformat": 4,
 "nbformat_minor": 0
}
