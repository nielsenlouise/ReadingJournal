{
 "cells": [
  {
   "cell_type": "markdown",
   "metadata": {},
   "source": [
    "# Day 3 Reading Journal\n",
    "\n",
    "This journal includes several required exercises, but it is meant to encourage active reading more generally.  You should use the journal to take detailed notes, catalog questions, and explore the content from Think Python deeply.\n",
    "\n",
    "Reading: Think Python Chapter 8, 10.1-10.6\n",
    "\n",
    "**Due: Monday, February 1 at 12 noon**\n",
    "\n"
   ]
  },
  {
   "cell_type": "markdown",
   "metadata": {},
   "source": [
    "## [Chapter 8](http://www.greenteapress.com/thinkpython/html/thinkpython009.html)\n",
    "\n",
    "Note: the exercise numbers below match up with the reading for ease of cross referencing."
   ]
  },
  {
   "cell_type": "markdown",
   "metadata": {},
   "source": [
<<<<<<< HEAD
    "**8.1**\n",
    "- string is a sequence of characters\n",
    "- access with bracket operator\n",
    "- expression in brackets called index\n",
    "- indexing happens from zero (what a surprise)"
   ]
  },
  {
   "cell_type": "markdown",
   "metadata": {},
   "source": [
    "**8.2**\n",
    "- len is built in function, returns number of characters in string\n",
    "- negative indices work"
   ]
  },
  {
   "cell_type": "markdown",
   "metadata": {},
   "source": [
    "**8.3**\n",
    "- things can process a string one character at a time, called a traversal\n",
    "- can happen with while loop"
   ]
  },
  {
   "cell_type": "markdown",
   "metadata": {},
   "source": [
=======
>>>>>>> 8a32eedd78ff684138b5658e8563d222d3a04656
    "### Exercise 1  \n",
    "\n",
    "Write a function that takes a string as an argument and displays the letters backward, one per line."
   ]
  },
  {
   "cell_type": "code",
<<<<<<< HEAD
   "execution_count": 6,
   "metadata": {
    "collapsed": false
   },
   "outputs": [
    {
     "name": "stdout",
     "output_type": "stream",
     "text": [
      "a\n",
      "n\n",
      "a\n",
      "n\n",
      "a\n",
      "b\n"
     ]
    }
   ],
   "source": [
    "def reverse_string(string):\n",
    "    string = string[::-1]\n",
    "    i = 0\n",
    "    while i < len(string):\n",
    "        print string[i]\n",
    "        i += 1\n",
    "\n",
    "reverse_string('banana')"
   ]
=======
   "execution_count": null,
   "metadata": {
    "collapsed": true
   },
   "outputs": [],
   "source": []
>>>>>>> 8a32eedd78ff684138b5658e8563d222d3a04656
  },
  {
   "cell_type": "markdown",
   "metadata": {},
   "source": [
    "**Challenge (optional):** Write a function that translates words into [Pig Latin](https://en.wikipedia.org/wiki/Pig_Latin). \n",
    "\n",
    "**Additional challenge**: Write a function that translates back into English."
   ]
  },
  {
   "cell_type": "code",
<<<<<<< HEAD
   "execution_count": 214,
   "metadata": {
    "collapsed": false
   },
   "outputs": [
    {
     "name": "stdout",
     "output_type": "stream",
     "text": [
      "he was delighted with het varied layp of het waterfalls, but no lamourg lindedb him to het qualors of wisss peasant life.\n",
      "Are these all real words? y/n: n\n",
      "Which words aren't words? List integers with spaces: 5 7 9 13 14 17 18 20\n",
      "he was delighted with the varied play of the waterfalls, but no glamour blinded him to the squalor of swiss peasant life.\n",
      "Are these all real words? y/n: y\n",
      "Hooray!\n",
      "he was delighted with the varied play of the waterfalls, but no glamour blinded him to the squalor of swiss peasant life.\n"
     ]
    },
    {
     "data": {
      "text/plain": [
       "'he was delighted with the varied play of the waterfalls, but no glamour blinded him to the squalor of swiss peasant life.'"
      ]
     },
     "execution_count": 214,
     "metadata": {},
     "output_type": "execute_result"
    }
   ],
   "source": [
    "import string\n",
    "\n",
=======
   "execution_count": null,
   "metadata": {
    "collapsed": true
   },
   "outputs": [],
   "source": [
>>>>>>> 8a32eedd78ff684138b5658e8563d222d3a04656
    "def pig_latin(word):\n",
    "    \"\"\"\n",
    "    Return given 'word' translated into Pig Latin\n",
    "    \n",
    "    >>> pig_latin(\"software\")\n",
    "    'oftwaresay'\n",
    "    \"\"\"\n",
<<<<<<< HEAD
    "    Words = string.split(word)\n",
    "    Pig_words = []\n",
    "    for i in Words:\n",
    "        if i[0] in ['a','e','i','o','u','y']:\n",
    "            Pig_words.append(i + 'yay')\n",
    "        elif i[0] == 'q':\n",
    "            Pig_words.append(i[2:] + 'quay')\n",
    "        else:\n",
    "            for j in range(len(i)):\n",
    "                if i[j] in ['a','e','i','o','u','y']:\n",
    "                    Pig_words.append(i[j:] + i[:j] + 'ay')\n",
    "                    break\n",
    "    return ' '.join(Pig_words)\n",
    "\n",
    "def anti_pig_latin(word):\n",
    "    Words = string.split(word)\n",
    "    English_words = []\n",
    "    for i in Words:\n",
    "        if i[-3] == 'y':\n",
    "            English_words.append(i[:-3])\n",
    "        else:\n",
    "            English_words.append(i[-3] + i[:-3])\n",
    "    print ' '.join(English_words)\n",
    "    while True:\n",
    "        prompt = 'Are these all real words? y/n: '\n",
    "        ans = raw_input(prompt)\n",
    "        if ans == 'n':\n",
    "            second_prompt = \"Which words aren't words? List integers with spaces: \"\n",
    "            second_ans = raw_input(second_prompt)\n",
    "            Still_pig_words = []\n",
    "            Still_pig_words = map(int,string.split(second_ans))\n",
    "            New_english_words = []\n",
    "            for j in range(len(English_words)):\n",
    "                word = English_words[j]\n",
    "                if j+1 in Still_pig_words:\n",
    "                    New_english_words.append(word[-1]+word[:-1])\n",
    "                else:\n",
    "                    New_english_words.append(word)\n",
    "            English_words = New_english_words\n",
    "            print ' '.join(English_words)\n",
    "            continue\n",
    "        if ans == 'y':\n",
    "            print 'Hooray!'\n",
    "            print ' '.join(English_words)\n",
    "            break\n",
    "        else:\n",
    "            print \"Useful. Really. Try again. Input is 'y' or 'n'.\"\n",
    "            continue\n",
    "    return ' '.join(English_words)\n",
    "\n",
    "anti_pig_latin(pig_latin('he was delighted with the varied play of the waterfalls, but no glamour blinded him to the squalor of swiss peasant life.'))\n",
=======
    "    pass #TODO: Implement me\n",
>>>>>>> 8a32eedd78ff684138b5658e8563d222d3a04656
    "\n",
    "# If you'd like to actually run the doctests here, you can uncomment the lines below.\n",
    "# We use this slightly more complex method to test only the pig_latin function, without running tests on any other functions that may be in this notebook.\n",
    "#import doctest\n",
<<<<<<< HEAD
    "#doctest.run_docstring_examples(pig_latin, globals(),verbose=True)"
   ]
  },
  {
   "cell_type": "markdown",
   "metadata": {},
   "source": [
    "**8.4**\n",
    "- you can slice strings using colons and indices\n",
    "- empty strings exist"
   ]
  },
  {
   "cell_type": "markdown",
   "metadata": {},
   "source": [
    "**8.5**\n",
    "- strings are immutable\n",
    "- just create new strings instead of trying to do item assignment"
   ]
  },
  {
   "cell_type": "markdown",
   "metadata": {},
   "source": [
    "**8.6**\n",
    "- traversing a sequence and returning when found what was looked for is called a search"
   ]
  },
  {
   "cell_type": "markdown",
   "metadata": {},
   "source": [
    "**8.7**\n",
    "- counter counts things"
=======
    "#doctest.run_docstring_examples(pig_latin, globals())"
>>>>>>> 8a32eedd78ff684138b5658e8563d222d3a04656
   ]
  },
  {
   "cell_type": "markdown",
   "metadata": {},
   "source": [
    "### Exercise 5\n",
    "Encapsulate the character counting code in a fruitful function named `count` that accepts the string and the letter as arguments and returns the count."
   ]
  },
  {
   "cell_type": "code",
<<<<<<< HEAD
   "execution_count": 160,
   "metadata": {
    "collapsed": false
   },
   "outputs": [
    {
     "data": {
      "text/plain": [
       "3"
      ]
     },
     "execution_count": 160,
     "metadata": {},
     "output_type": "execute_result"
    }
   ],
   "source": [
    "def count(string,letter):\n",
    "    count = 0\n",
    "    for i in string:\n",
    "        if i == letter:\n",
    "            count += 1\n",
    "    return count\n",
    "\n",
    "count('banana','a')"
   ]
  },
  {
   "cell_type": "markdown",
   "metadata": {},
   "source": [
    "**8.8**\n",
    "- method is similar to function but differently\n",
    "- dot notation\n",
    "- method call is called an invocation"
   ]
=======
   "execution_count": null,
   "metadata": {
    "collapsed": true
   },
   "outputs": [],
   "source": []
>>>>>>> 8a32eedd78ff684138b5658e8563d222d3a04656
  },
  {
   "cell_type": "markdown",
   "metadata": {},
   "source": [
    "### Exercise 8\n",
    "Skim the documentation of the Python [string methods](http://docs.python.org/2/library/stdtypes.html#string-methods). Experiment with some of them to make sure you understand how they work. strip, replace, and upper/lower are particularly useful."
   ]
  },
  {
   "cell_type": "code",
<<<<<<< HEAD
   "execution_count": 173,
   "metadata": {
    "collapsed": false
   },
   "outputs": [
    {
     "name": "stdout",
     "output_type": "stream",
     "text": [
      "Hello, soft-des-ers.\n",
      "you may be wondering why i've gathered you here today, in room 326, for software design.\n",
      "I ACTUALLY DIDN'T.\n",
      "hello again, students.\n",
      "heyy...\n"
     ]
    }
   ],
   "source": [
    "# please remember to capitalize the first letter in a sentence.\n",
    "print 'hello, soft-des-ers.'.capitalize()\n",
    "# talking in lower case can have benefits, though. (don't ask me what they are)\n",
    "print \"You may be wondering why I've gathered you here today, in Room 326, for Software Design.\".lower()\n",
    "# or you can be very scary and use all caps.\n",
    "print \"i actually didn't.\".upper()\n",
    "# replacing sections can be useful too\n",
    "print \"hello again, soft-des-ers.\".replace(\"soft-des-ers\",\"students\")\n",
    "# or stripping.\n",
    "print \"heyy...     \".strip()"
   ]
  },
  {
   "cell_type": "markdown",
   "metadata": {},
   "source": [
    "**8.9**\n",
    "- in is a boolean operator, if first string is in second then returns True"
   ]
  },
  {
   "cell_type": "markdown",
   "metadata": {},
   "source": [
    "**8.10**\n",
    "- string comparison works\n",
    "- uppercase letters come before lowercase letters"
   ]
  },
  {
   "cell_type": "markdown",
   "metadata": {},
   "source": [
    "**8.11**\n",
    "- yeah. debug things."
   ]
=======
   "execution_count": null,
   "metadata": {
    "collapsed": true
   },
   "outputs": [],
   "source": []
>>>>>>> 8a32eedd78ff684138b5658e8563d222d3a04656
  },
  {
   "cell_type": "markdown",
   "metadata": {},
   "source": [
    "### Exercise 11  \n",
    "\n",
    "The following functions are all intended to check whether a string contains any lowercase letters, but at least some of them are wrong. For each function, describe what the function actually does (assuming that the parameter is a string)."
   ]
  },
  {
   "cell_type": "code",
<<<<<<< HEAD
   "execution_count": 185,
   "metadata": {
    "collapsed": false
   },
   "outputs": [
    {
     "data": {
      "text/plain": [
       "False"
      ]
     },
     "execution_count": 185,
     "metadata": {},
     "output_type": "execute_result"
    }
   ],
   "source": [
    "# if there are any lowercase characters in input, returns True\n",
=======
   "execution_count": null,
   "metadata": {
    "collapsed": true
   },
   "outputs": [],
   "source": [
>>>>>>> 8a32eedd78ff684138b5658e8563d222d3a04656
    "def any_lowercase1(s):\n",
    "    for c in s:\n",
    "        if c.islower():\n",
    "            return True\n",
    "        else:\n",
<<<<<<< HEAD
    "            return False\n",
    "        \n",
    "any_lowercase1('HEY')"
=======
    "            return False"
>>>>>>> 8a32eedd78ff684138b5658e8563d222d3a04656
   ]
  },
  {
   "cell_type": "markdown",
   "metadata": {},
   "source": [
    " "
   ]
  },
  {
   "cell_type": "code",
<<<<<<< HEAD
   "execution_count": 183,
   "metadata": {
    "collapsed": false
   },
   "outputs": [],
   "source": [
    "# if 'c' contains any lowercase characters, returns True. therefore, always returns True.\n",
=======
   "execution_count": null,
   "metadata": {
    "collapsed": true
   },
   "outputs": [],
   "source": [
>>>>>>> 8a32eedd78ff684138b5658e8563d222d3a04656
    "def any_lowercase2(s):\n",
    "    for c in s:\n",
    "        if 'c'.islower():\n",
    "            return 'True'\n",
    "        else:\n",
<<<<<<< HEAD
    "            return 'False'\n",
    "        \n",
    "any_lowercase2('HEY')"
=======
    "            return 'False'"
>>>>>>> 8a32eedd78ff684138b5658e8563d222d3a04656
   ]
  },
  {
   "cell_type": "markdown",
   "metadata": {},
   "source": [
    " "
   ]
  },
  {
   "cell_type": "code",
<<<<<<< HEAD
   "execution_count": 189,
   "metadata": {
    "collapsed": false
   },
   "outputs": [
    {
     "data": {
      "text/plain": [
       "False"
      ]
     },
     "execution_count": 189,
     "metadata": {},
     "output_type": "execute_result"
    }
   ],
   "source": [
    "# returns False if no lowercase, True if any lowercase characters\n",
    "def any_lowercase3(s):\n",
    "    for c in s:\n",
    "        flag = c.islower()\n",
    "    return flag\n",
    "\n",
    "any_lowercase3('HEY')"
=======
   "execution_count": null,
   "metadata": {
    "collapsed": true
   },
   "outputs": [],
   "source": [
    "def any_lowercase3(s):\n",
    "    for c in s:\n",
    "        flag = c.islower()\n",
    "    return flag"
>>>>>>> 8a32eedd78ff684138b5658e8563d222d3a04656
   ]
  },
  {
   "cell_type": "markdown",
   "metadata": {},
   "source": [
    " "
   ]
  },
  {
   "cell_type": "code",
<<<<<<< HEAD
   "execution_count": 205,
   "metadata": {
    "collapsed": false
   },
   "outputs": [
    {
     "data": {
      "text/plain": [
       "False"
      ]
     },
     "execution_count": 205,
     "metadata": {},
     "output_type": "execute_result"
    }
   ],
   "source": [
    "# if c.islower() is True, then False or True evaluates to True. otherwise,\n",
    "# remains False\n",
=======
   "execution_count": null,
   "metadata": {
    "collapsed": true
   },
   "outputs": [],
   "source": [
>>>>>>> 8a32eedd78ff684138b5658e8563d222d3a04656
    "def any_lowercase4(s):\n",
    "    flag = False\n",
    "    for c in s:\n",
    "        flag = flag or c.islower()\n",
<<<<<<< HEAD
    "    return flag\n",
    "\n",
    "any_lowercase4('HEY')"
=======
    "    return flag"
>>>>>>> 8a32eedd78ff684138b5658e8563d222d3a04656
   ]
  },
  {
   "cell_type": "markdown",
   "metadata": {},
   "source": [
    " "
   ]
  },
  {
   "cell_type": "code",
<<<<<<< HEAD
   "execution_count": 206,
   "metadata": {
    "collapsed": false
   },
   "outputs": [
    {
     "data": {
      "text/plain": [
       "False"
      ]
     },
     "execution_count": 206,
     "metadata": {},
     "output_type": "execute_result"
    }
   ],
   "source": [
    "# if any character is uppercase, returns False\n",
=======
   "execution_count": null,
   "metadata": {
    "collapsed": true
   },
   "outputs": [],
   "source": [
>>>>>>> 8a32eedd78ff684138b5658e8563d222d3a04656
    "def any_lowercase5(s):\n",
    "    for c in s:\n",
    "        if not c.islower():\n",
    "            return False\n",
<<<<<<< HEAD
    "    return True\n",
    "\n",
    "any_lowercase5('heYY')"
=======
    "    return True"
>>>>>>> 8a32eedd78ff684138b5658e8563d222d3a04656
   ]
  },
  {
   "cell_type": "markdown",
   "metadata": {},
   "source": [
    " "
   ]
  },
  {
   "cell_type": "markdown",
   "metadata": {},
   "source": [
    "## [Chapter 10.1 - 10.6](http://www.greenteapress.com/thinkpython/html/thinkpython011.html)\n",
    "\n",
    "You may want to review [state diagrams in Chapter 2](http://www.greenteapress.com/thinkpython/html/thinkpython003.html#toc13).\n",
    "\n"
   ]
  },
  {
   "cell_type": "markdown",
   "metadata": {},
   "source": [
<<<<<<< HEAD
    "**10.1**\n",
    "- list is a sequence of values\n",
    "- values in list are elements or items\n",
    "- square brackets\n",
    "- list within a list is nested"
   ]
  },
  {
   "cell_type": "markdown",
   "metadata": {},
   "source": [
    "**Quick check:** What type of items can be placed in a list?  \n",
    "Any types."
=======
    "**Quick check:** What type of items can be placed in a list?"
>>>>>>> 8a32eedd78ff684138b5658e8563d222d3a04656
   ]
  },
  {
   "cell_type": "markdown",
   "metadata": {},
   "source": [
    " "
   ]
  },
  {
   "cell_type": "markdown",
   "metadata": {},
   "source": [
<<<<<<< HEAD
    "**Quick check:** Give at least one similarity and one difference between lists and strings.  \n",
    "Both are sequences of values, but a string has characters; lists have whatever."
   ]
  },
  {
   "cell_type": "markdown",
   "metadata": {},
   "source": [
    "**10.2**\n",
    "- lists are mutable\n",
    "- list is relationship between indices and elements: called mapping\n",
    "- any integer expression can be used as an index\n",
    "- trying to read or write an element that doesn't exist is IndexError\n",
    "- if index is negative, counts backward from end\n",
    "- in operator also works on lists"
   ]
  },
  {
   "cell_type": "markdown",
   "metadata": {},
   "source": [
    "**10.3**\n",
    "- traversing a list usually with for loop\n",
    "- for loop on empty list never executes body\n",
    "- lists can contain other lists, but nested list still counts as single element"
   ]
  },
  {
   "cell_type": "markdown",
   "metadata": {},
   "source": [
    "**10.4**\n",
    "- '+' concatenates lists\n",
    "- '*' repeats list a given number of times"
   ]
  },
  {
   "cell_type": "markdown",
   "metadata": {},
   "source": [
    "**10.5**\n",
    "- slicing works too"
   ]
  },
  {
   "cell_type": "markdown",
   "metadata": {},
   "source": [
    "**10.6**\n",
    "- append appends elements\n",
    "- extend takes list as argument and appends all elements\n",
    "- sort arranges elements from low to high\n",
    "- list methods are void; modify list and return None"
   ]
  },
  {
   "cell_type": "markdown",
   "metadata": {},
   "source": [
    "**10.7**\n",
    "- += is augmented assignment statement\n",
    "- variable used like that called accumulator\n",
    "- sum exists, works on lists\n",
    "- operation that combines sequence of elements into single value is reduce\n",
    "- operations that map a function onto each element in a sequence is called a map\n",
    "- filters select some elements and filter out others"
   ]
  },
  {
   "cell_type": "markdown",
   "metadata": {},
   "source": [
    "**10.8**\n",
    "- pop modifies list and returns removed element\n",
    "- del just removes element by index\n",
    "- remove just removes the element without index\n",
    "- del with slice index works"
=======
    "**Quick check:** Give at least one similarity and one difference between lists and strings."
>>>>>>> 8a32eedd78ff684138b5658e8563d222d3a04656
   ]
  },
  {
   "cell_type": "markdown",
   "metadata": {},
   "source": [
<<<<<<< HEAD
    "**10.9**\n",
    "- use list to convert from string to list of characters\n",
    "- split breaks string into words\n",
    "- delimiter specifies which characters to use as word boundaries\n",
    "- join is inverse of split"
   ]
  },
  {
   "cell_type": "markdown",
   "metadata": {},
   "source": [
    "**10.10**\n",
    "- to check if two variables refer to two different objects or to same object, use is operator\n",
    "- two equivalent lists assigned to different variables is still two different objects: not identical\n",
    "- an object has a value"
   ]
  },
  {
   "cell_type": "markdown",
   "metadata": {},
   "source": [
    "**10.11**\n",
    "- association of variable with object called reference\n",
    "- object with more than one reference has more than one name, so object is aliased\n",
    "- if aliased object is mutable, changes made with one alias affect the other\n",
    "- safer to avoid aliasing when working with mutable objects\n",
    "- aliasing doesn't really do a lot with immutable objects"
=======
    " "
>>>>>>> 8a32eedd78ff684138b5658e8563d222d3a04656
   ]
  },
  {
   "cell_type": "markdown",
   "metadata": {},
   "source": [
    "### Exercise\n",
    "\n",
    "Write a function `average` that takes a list of numbers and returns their arithmetic mean."
   ]
  },
  {
   "cell_type": "code",
<<<<<<< HEAD
   "execution_count": 207,
   "metadata": {
    "collapsed": false
   },
   "outputs": [
    {
     "data": {
      "text/plain": [
       "4"
      ]
     },
     "execution_count": 207,
     "metadata": {},
     "output_type": "execute_result"
    }
   ],
   "source": [
    "def arith_mean(list_numbers):\n",
    "    sum_list = sum(list_numbers)\n",
    "    length_list = len(list_numbers)\n",
    "    return sum_list/length_list\n",
    "\n",
    "arith_mean([1,2,3,4,5,6,7])"
   ]
=======
   "execution_count": null,
   "metadata": {
    "collapsed": true
   },
   "outputs": [],
   "source": []
>>>>>>> 8a32eedd78ff684138b5658e8563d222d3a04656
  },
  {
   "cell_type": "markdown",
   "metadata": {},
   "source": [
    "### Exercise\n",
    "You own a restaurant, and you need to keep up with the latest food fads or risk losing your fickle customers. You decide to write a Python function that adds the hot new ingredient _du jour_ to each of your regular menu items and returns the trendy new menu."
   ]
  },
  {
   "cell_type": "code",
<<<<<<< HEAD
   "execution_count": 210,
   "metadata": {
    "collapsed": false
   },
   "outputs": [
    {
     "data": {
      "text/plain": [
       "['smoothies with tempeh',\n",
       " 'grilled cheese sandwiches with tempeh',\n",
       " 'tomato soup with tempeh']"
      ]
     },
     "execution_count": 210,
     "metadata": {},
     "output_type": "execute_result"
    }
   ],
   "source": [
    "def add_ingredient(Menu, ingredient):\n",
=======
   "execution_count": null,
   "metadata": {
    "collapsed": false
   },
   "outputs": [],
   "source": [
    "def add_ingredient(menu, ingredient):\n",
>>>>>>> 8a32eedd78ff684138b5658e8563d222d3a04656
    "    \"\"\"\n",
    "    Given a list of string 'menu' items and a trendy 'ingredient' string of the day,\n",
    "    return a new menu list of strings with the ingredient added to each.\n",
    "    \n",
    "    >>> add_ingredient([\"burger\", \"salad\", \"ice cream\"], \"kale\")\n",
    "    ['burger with kale', 'salad with kale', 'ice cream with kale']\n",
    "    \n",
    "    \"\"\"\n",
<<<<<<< HEAD
    "    New_menu = []\n",
    "    for i in Menu:\n",
    "        New_menu.append(i + ' with ' + ingredient)\n",
    "    return New_menu\n",
    "\n",
    "add_ingredient(['smoothies','grilled cheese sandwiches','tomato soup'], 'tempeh')\n",
    "    \n",
=======
    "    pass    # TODO: Implement me\n",
    "\n",
>>>>>>> 8a32eedd78ff684138b5658e8563d222d3a04656
    "# Running doctests in jupyter notebook:\n",
    "# If you'd like to actually run the doctests here, you can uncomment the lines below.\n",
    "# We use this slightly more complex method to test only the add_ingredient function,\n",
    "# without running tests on any other functions that may be in this notebook.\n",
    "\n",
    "#import doctest\n",
<<<<<<< HEAD
    "#doctest.run_docstring_examples(add_ingredient, globals(),verbose=True)"
=======
    "#doctest.run_docstring_examples(add_ingredient, globals())"
>>>>>>> 8a32eedd78ff684138b5658e8563d222d3a04656
   ]
  },
  {
   "cell_type": "markdown",
   "metadata": {},
   "source": [
    "## Reading Journal feedback\n",
    "\n",
    "Have any comments on this Reading Journal? Feel free to leave them below and we'll read them when you submit your journal entry. This could include suggestions to improve the exercises, topics you'd like to see covered in class next time, or other feedback.\n",
    "\n",
    "If you have Python questions or run into problems while completing the reading, you should post them to Piazza instead so you can get a quick response before your journal is submitted."
   ]
  },
  {
   "cell_type": "markdown",
   "metadata": {},
   "source": [
    " "
   ]
  }
 ],
 "metadata": {
  "kernelspec": {
   "display_name": "Python 2",
   "language": "python",
   "name": "python2"
  },
  "language_info": {
   "codemirror_mode": {
    "name": "ipython",
    "version": 2
   },
   "file_extension": ".py",
   "mimetype": "text/x-python",
   "name": "python",
   "nbconvert_exporter": "python",
   "pygments_lexer": "ipython2",
   "version": "2.7.6"
  }
 },
 "nbformat": 4,
 "nbformat_minor": 0
}
