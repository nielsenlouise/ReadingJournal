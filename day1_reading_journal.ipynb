{
 "cells": [
  {
   "cell_type": "markdown",
   "metadata": {},
   "source": [
    "# Day 1 Reading Journal\n",
    "\n",
    "Hi everyone.  These are the exercises for the first set of readings from ThinkPython.  While this journal consists of several required exercises, it is meant to encourage active reading more generally.  You should use this journal to take detailed notes, catalog questions, and explore the content from ThinkPython deeply.\n",
    "\n",
    "For more information on using the Jupyter notebook, check out the documentation [here](http://nbviewer.jupyter.org/github/jupyter/notebook/blob/master/docs/source/examples/Notebook/Examples%20and%20Tutorials%20Index.ipynb).  Additionally, in order to write text in this document, you will be making use of markdown cells. A handy cheatsheet for markdown is available [here](https://github.com/adam-p/markdown-here/wiki/Markdown-Cheatsheet)."
   ]
  },
  {
   "cell_type": "markdown",
   "metadata": {},
   "source": [
    "## Chapter 1\n",
    "\n",
    "Note: the exercise numbers below match up with the reading for ease of cross referencing."
   ]
  },
  {
   "cell_type": "markdown",
   "metadata": {},
   "source": [
    "**Intro**\n",
    "- computer science is like math, engineering, and natural science\n",
    "  - use formal languages to denote ideas like mathematicians\n",
    "  - design things, assemble components into systems, and evaluate tradeoffs like engineers\n",
    "  - observe behavior of complex systems, form hypotheses, and test predictions like scientists\n",
    "- problem solving is ability to come up with problems, think creatively about solutions, express solution clearly and accurately"
   ]
  },
  {
   "cell_type": "markdown",
   "metadata": {},
   "source": [
    "**1.1**\n",
    "- low-level languages:\n",
    "  - computers only run programs written in low-level languages\n",
    "  - can run on only one kind of computer, must be rewritten to run on another\n",
    "  - \"machine languages\" or \"assembly languages\"\n",
    "- high-level languages:\n",
    "  - have to be processed before they can run, takes some time\n",
    "  - much easier to program\n",
    "    - take less time to write\n",
    "    - shorter and easier to read\n",
    "    - more likely to be correct\n",
    "  - portable: can run on different kinds of computers with different or few modifications\n",
    "  - i.e. python, C, C++, perl, java\n",
    "- interpreters and compilers process high-level languages into low-level languages\n",
    "  - interpreters read a high-level program and executes it: processes the program a little at a time\n",
    "  - compiler reads program and translates it completely before running\n",
    "    - high-level program is called source code\n",
    "    - translated program called object code or excutable\n",
    "- python is an interpreted language because programs are executed by an interpreter\n",
    "- two ways:\n",
    "  - interactive mode:\n",
    "    - you type, interpreter displays the result\n",
    "    - \">>>\" is the prompt\n",
    "  - script mode\n",
    "    - store code in a file and use the interpreter to execture the contents of the file (called a script)\n",
    "    - python script names end with .py\n",
    "    - to executre, tell the interpreter the name of the file"
   ]
  },
  {
   "cell_type": "markdown",
   "metadata": {},
   "source": [
    "**1.2**\n",
    "- program is a sequence of instructions that specify how to perform a computation\n",
    "- input: get data from keyboard, file, some other device\n",
    "- output: display data on screen or send to file or other device\n",
    "- math: perform basic math operations\n",
    "- conditional execution: check for certain conditions, execute appropriate code\n",
    "- repetition: perform some action repeatedly"
   ]
  },
  {
   "cell_type": "markdown",
   "metadata": {},
   "source": [
    "**1.3**\n",
    "- program errors are bugs\n",
    "- process of finding bugs is debugging\n",
    "- in a program: syntax errors, runtime errors, semantic errors\n",
    "\n",
    "1.3.1 syntax errors\n",
    "- syntax is the structure of a program and rules about that structure\n",
    "- humans can ignore syntax errors. computers aren't smart enough yet.\n",
    "\n",
    "1.3.2 runtime errors\n",
    "- doesn't appear until after the program starts running.\n",
    "- also called exceptions\n",
    "\n",
    "1.3.3 semantic errors\n",
    "- appears to run successfully but doesn't do what you want it to do\n",
    "- there is no error message\n",
    "\n",
    "1.3.4\n",
    "- debugging is really important\n",
    "- like detective work, like experimental science\n",
    "- start with a program that does something and make small modifications, debugging them as you go, so your program always works"
   ]
  },
  {
   "cell_type": "markdown",
   "metadata": {},
   "source": [
    "**1.4**\n",
    "- natural languages are things people speak that evolved naturally\n",
    "  - see english, french, etc.\n",
    "- formal languages are designed by people for specific applications\n",
    "  - see math notation, chemical structure language, programming languages\n",
    "  - have strict rules about syntax\n",
    "- syntax\n",
    "  - tokens: basic elements of language, like words, numbers, chemical elements\n",
    "  - syntax is structure\n",
    "  \n",
    "**Exercise 1:**  \n",
    "The * dog walks @  \n",
    "walking horse dog run  \n",
    "\n",
    "- parsing: figuring out structure of sentence\n",
    "- natural languages are super ambiguous. formal languages are designed not to be.\n",
    "- natural languages are redundant to make up for ambiguity. formal languages are more concise.\n",
    "- natural languages have idioms and metaphors. formal languages are very literal.\n",
    "- kind of like the difference between poetry and prose, but more so (poetry-->prose-->programs)\n",
    "- formal languages are much more dense than natural languages: takes more time to read\n",
    "- structure is very important, not usually good to read from top to bottom, left to right: learn to parse in your head\n",
    "- details matter: small errors in spelling and punctuation mess things up"
   ]
  },
  {
   "cell_type": "markdown",
   "metadata": {},
   "source": [
    "**1.5**\n",
    "- first program in a new language is traditionally \"Hello, World!\"\n",
    "- is a print statement"
   ]
  },
  {
   "cell_type": "markdown",
   "metadata": {},
   "source": [
    "**1.6**\n",
    "- read this book with a computer so you can try things as you go\n",
    "- when trying a new feature, try to make mistakes\n",
    "  - helps you remember things\n",
    "  - helps you learn what error messages mean\n",
    "- people naturally respond to computers as if computers are people\n",
    "- don't"
   ]
  },
  {
   "cell_type": "markdown",
   "metadata": {},
   "source": [
    "### Exercise 3\n",
    "\n",
    "Type `help()` to start the online help utility. Or you can type help('print') to get information about the print statement.  You should type `q` and then hit `enter` in the text box to exit the help utility. \n",
    "\n",
    "Note: this exercise is pretty simple (and there's not much to put in the box)!  We just want to make sure that you have tried out this super-handy feature of Python!"
   ]
  },
  {
   "cell_type": "code",
   "execution_count": 1,
   "metadata": {
    "collapsed": false
   },
   "outputs": [
    {
     "name": "stdout",
     "output_type": "stream",
     "text": [
      "\n",
      "Welcome to Python 2.7!  This is the online help utility.\n",
      "\n",
      "If this is your first time using Python, you should definitely check out\n",
      "the tutorial on the Internet at http://docs.python.org/2.7/tutorial/.\n",
      "\n",
      "Enter the name of any module, keyword, or topic to get help on writing\n",
      "Python programs and using Python modules.  To quit this help utility and\n",
      "return to the interpreter, just type \"quit\".\n",
      "\n",
      "To get a list of available modules, keywords, or topics, type \"modules\",\n",
      "\"keywords\", or \"topics\".  Each module also comes with a one-line summary\n",
      "of what it does; to list the modules whose summaries contain a given word\n",
      "such as \"spam\", type \"modules spam\".\n",
      "\n",
      "help> q\n",
      "\n",
      "You are now leaving help and returning to the Python interpreter.\n",
      "If you want to ask for help on a particular object directly from the\n",
      "interpreter, you can type \"help(object)\".  Executing \"help('string')\"\n",
      "has the same effect as typing a particular string at the help> prompt.\n"
     ]
    }
   ],
   "source": [
    "help()"
   ]
  },
  {
   "cell_type": "markdown",
   "metadata": {},
   "source": [
    "### Exercise 4  \n",
    "\n",
    "Start the Python interpreter and use it as a calculator. Python’s syntax for math operations is almost the same as standard mathematical notation. For example, the symbols +, - and / denote addition, subtraction and division, as you would expect. The symbol for multiplication is *.\n",
    "\n",
    "If you run a 10 kilometer race in 43 minutes 30 seconds, what is your average time per mile? What is your average speed in miles per hour? (Hint: there are 1.61 kilometers in a mile). "
   ]
  },
  {
   "cell_type": "code",
   "execution_count": 29,
   "metadata": {
    "collapsed": false
   },
   "outputs": [
    {
     "name": "stdout",
     "output_type": "stream",
     "text": [
      "6.923 minutes per mile\n",
      "8.667 miles per hour\n"
     ]
    }
   ],
   "source": [
    "time_minutes = (43*60+30)/60      # time in seconds\n",
    "dist_miles = 10/1.61              # distance in miles\n",
    "time_per_mile = time_minutes / dist_miles\n",
    "print str(time_per_mile)+' minutes per mile'\n",
    "\n",
    "time_hours = time_minutes/60.0    # time in hours\n",
    "mph = dist_miles/time_hours       # calculate miles per hour\n",
    "print '%.3f miles per hour' % mph # print it prettily with three decimal places ooooh"
   ]
  },
  {
   "cell_type": "markdown",
   "metadata": {},
   "source": [
    "## Chapter 2"
   ]
  },
  {
   "cell_type": "markdown",
   "metadata": {},
   "source": [
    "**2.1**\n",
    "- value is one of the basic things a program works with, like a letter or number\n",
    "- belong to different types:\n",
    "  - int: integers are integers\n",
    "  - str: strings contain string of letters, enclosed in quotation marks\n",
    "  - float: numbers with a decimal point, represented in floating-point"
   ]
  },
  {
   "cell_type": "markdown",
   "metadata": {},
   "source": [
    "**2.2**\n",
    "- variable is a name that refers to a value\n",
    "- assignment statement creates new variables and gives them values\n",
    "- state diagram writes name of variable with arrow pointing to value\n",
    "- type of a variable is the type of the value it refers to"
   ]
  },
  {
   "cell_type": "markdown",
   "metadata": {},
   "source": [
    "**2.3**\n",
    "- variable names can be as long as you want\n",
    "- contain letters and numbers\n",
    "- begin with a letter\n",
    "- can contain underscore\n",
    "- cannot be a keyword\n",
    "- keywords used to recognize structure of program\n",
    "- keywords:\n",
    "\n",
    "and | del | from | not | while\n",
    "--- | --- | --- | --- | ---\n",
    "**as** | **elif** | **global** | **or** | **with**\n",
    "**assert** | **else** | **if** | **pass** | **yield**\n",
    "**break** | **except** | **import** | **print** |\n",
    "**class** | **exec** | **in** | **raise** |\n",
    "**continue** | **finally** | **is** | **return** |\n",
    "**def** | **for** | **lambda** | **try** |"
   ]
  },
  {
   "cell_type": "markdown",
   "metadata": {},
   "source": [
    "**2.4**\n",
    "- operators are symbols that represent computations (i.e. addition, multiplication)\n",
    "- operands are values operator is applied to\n",
    "- division operator performs floor division: rounds down to integer\n",
    "- if either operands is float, then performs floating-point division"
   ]
  },
  {
   "cell_type": "markdown",
   "metadata": {},
   "source": [
    "**2.5**\n",
    "- expression is combination of values, variables, operators\n",
    "- values and variables all by themselves are considered expressions (if variable has been assigned a value)\n",
    "- statement is a unit of code that python interpreter can execute (like print and assignment)\n",
    "- an expression has a value\n",
    "- a statement does not"
   ]
  },
  {
   "cell_type": "markdown",
   "metadata": {},
   "source": [
    "**2.6**\n",
    "- in a script, python won't display values unless you tell it to\n",
    "- results appear as the statements execute\n",
    "\n",
    "**Exercise 1**  \n",
    "in the interpreter, the first statement outputs '5', the second statement has no output, and the third statement outputs '6'. en a script, there is no output. editing the script to read:  \n",
    "   print(5)  \n",
    "   x = 5  \n",
    "   print(x+1)  \n",
    "results in:  \n",
    "   5  \n",
    "   6"
   ]
  },
  {
   "cell_type": "markdown",
   "metadata": {},
   "source": [
    "**2.7**\n",
    "- order of evaluation depends on rules of precedence\n",
    "- PEMDAS"
   ]
  },
  {
   "cell_type": "markdown",
   "metadata": {},
   "source": [
    "**2.8**\n",
    "- can't perform mathematical operations on strings\n",
    "- '+' operator performs concatenation\n",
    "- '*' operator performs repetition. if one operand is a string, the other must be an integer"
   ]
  },
  {
   "cell_type": "markdown",
   "metadata": {},
   "source": [
    "**2.9**\n",
    "- comments are a Good Idea\n",
    "- start with #\n",
    "- can be on separate line or at the end of the line\n",
    "- good variable names reduce need for comments, but long variable names make complex expressions harder to read"
   ]
  },
  {
   "cell_type": "markdown",
   "metadata": {},
   "source": [
    "**2.10**\n",
    "- don't use illegal variable names\n",
    "- don't put a space in a variable name (python thinks it is two operands without an operator)\n",
    "- don't use a variable before you assign a value\n",
    "- be aware of order of operations"
   ]
  },
  {
   "cell_type": "markdown",
   "metadata": {},
   "source": [
    "### Exercise 2  \n",
    "\n",
    "Assume that we execute the following assignment statements:\n",
    "\n",
    "width = 17\n",
    "height = 12.0\n",
    "delimiter = '.'\n",
    "\n",
    "For each of the following expressions, write the value of the expression and the type (of the value of the expression).\n",
    "\n",
    "1. `width/2`\n",
    "2. `width/2.0`\n",
    "3. `height/3`\n",
    "4. `1 + 2 * 5`\n",
    "5. `delimiter * 5`\n",
    "\n",
    "Please use the following markdown cell to provide your answer."
   ]
  },
  {
   "cell_type": "markdown",
   "metadata": {},
   "source": [
    "1. 8, int\n",
    "2. 8.5, float\n",
    "3. 4.0, float\n",
    "4. 11, int\n",
    "5. ....., str"
   ]
  },
  {
   "cell_type": "markdown",
   "metadata": {},
   "source": [
    "### Exercise 3  \n",
    "\n",
    "Practice using the Python interpreter as a calculator.  For each of these provide Python code that computes each answer.\n",
    "\n",
    "    \n"
   ]
  },
  {
   "cell_type": "markdown",
   "metadata": {},
   "source": [
    "The volume of a sphere with radius r is 4/3 $\\pi r^3$. What is the volume of a sphere with radius 5? Hint: 392.7 is wrong!"
   ]
  },
  {
   "cell_type": "code",
   "execution_count": 14,
   "metadata": {
    "collapsed": false
   },
   "outputs": [
    {
     "data": {
      "text/plain": [
       "523.5987755982989"
      ]
     },
     "execution_count": 14,
     "metadata": {},
     "output_type": "execute_result"
    }
   ],
   "source": [
    "import math\n",
    "4.0/3*math.pi*5**3"
   ]
  },
  {
   "cell_type": "markdown",
   "metadata": {},
   "source": [
    "Suppose the cover price of a book is \\$24.95, but bookstores get a 40% discount. Shipping costs \\$3 for the first copy and 75 cents for each additional copy. What is the total wholesale cost for 60 copies?"
   ]
  },
  {
   "cell_type": "code",
   "execution_count": 15,
   "metadata": {
    "collapsed": false
   },
   "outputs": [
    {
     "name": "stdout",
     "output_type": "stream",
     "text": [
      "945.45\n"
     ]
    }
   ],
   "source": [
    "book = 24.95             # cover price of book, dollars\n",
    "n = 60                   # number of copies\n",
    "discount = book * .6     # bookstore discount\n",
    "shipping = 3 + .75*(n-1) # total shipping cost, dollars\n",
    "books = n * discount     # total cost of books, dollars\n",
    "print(shipping + books)  # print the thing"
   ]
  },
  {
   "cell_type": "markdown",
   "metadata": {},
   "source": [
    "If I leave my house at 6:52 am and run 1 mile at an easy pace (8:15 per mile), then 3 miles at tempo (7:12 per mile) and 1 mile at easy pace again, what time do I get home for breakfast? "
   ]
  },
  {
   "cell_type": "code",
   "execution_count": 1,
   "metadata": {
    "collapsed": false
   },
   "outputs": [
    {
     "name": "stdout",
     "output_type": "stream",
     "text": [
      "7:30\n"
     ]
    }
   ],
   "source": [
    "# input of time\n",
    "hour_initial = 6\n",
    "minutes_initial = 52\n",
    "\n",
    "# figuring out how long it takes to run\n",
    "dist_easy = 2                     # distance run at easy pace\n",
    "dist_tempo = 3                    # distance run at tempo\n",
    "time_at_easy = 8 + 15/60.0        # time for a mile at easy pace in minutes\n",
    "time_at_tempo = 7 + 12/60.0       # time for a mile at tempo in minutes\n",
    "time_running = dist_easy*time_at_easy + dist_tempo*time_at_tempo\n",
    "\n",
    "# adding the running time to the initial time\n",
    "minutes_current = int(minutes_initial + time_running)\n",
    "hour_current = hour_initial\n",
    "while minutes_current > 60:\n",
    "    minutes_current = minutes_current - 60\n",
    "    hour_current = hour_current + 1\n",
    "    if hour_current > 23:\n",
    "        hour_current = 0\n",
    "hour_str = str(hour_current)\n",
    "minutes_str = str(minutes_current)\n",
    "colon = ':'\n",
    "\n",
    "# making the new time printable\n",
    "time = hour_str + colon + minutes_str\n",
    "\n",
    "# printing the new time\n",
    "print time"
   ]
  },
  {
   "cell_type": "markdown",
   "metadata": {},
   "source": [
    "## Chapter 3"
   ]
  },
  {
   "cell_type": "markdown",
   "metadata": {},
   "source": [
    "**3.1**\n",
    "- function is a named sequence of statements that performs a computation\n",
    "- function call is calling the function\n",
    "- arguments are things\n",
    "- return value is result"
   ]
  },
  {
   "cell_type": "markdown",
   "metadata": {},
   "source": [
    "**3.2**\n",
    "- type conversion functions convert values from one type to another.\n",
    "  - int() converts to integers, truncates non-integral parts of floats, does not like things that arent convertable to integers\n",
    "  - float() converts ints and strings to floats\n",
    "  - str() converts argument to string"
   ]
  },
  {
   "cell_type": "markdown",
   "metadata": {},
   "source": [
    "**3.3**\n",
    "- module is file that contains collection of related functions\n",
    "- before using module, must import it: import math\n",
    "- math module is useful.\n",
    "- to access a function, specify name of the module and name of function separated by a dot. called dot notation\n",
    "  - math.log10(thing)\n",
    "  - math.sin(angle)\n",
    "- trig functions in math module use radians"
   ]
  },
  {
   "cell_type": "markdown",
   "metadata": {},
   "source": [
    "**3.4**\n",
    "- languages can compose small building blocks\n",
    "- argument of a function can be any kind of expression, including arithmetic operators\n",
    "- anywhere you can put a value, you can put an arbitrary expression, except that the left side of an assignment statement must be a variable name"
   ]
  },
  {
   "cell_type": "markdown",
   "metadata": {},
   "source": [
    "**3.5**\n",
    "- function definition specifies name of a new function and sequence of statements that exectue when the function is called\n",
    "- def is keyword, indicates function definition\n",
    "- ex:  \n",
    "def function_name():  \n",
    "    print 'do whatever your function wants to do here'\n",
    "- rules for function names are the same as for variable names\n",
    "- empty parentheses indicate function doesn't take arguments\n",
    "- first line is called header, must end with colon\n",
    "- rest is called body, must be indented, indentation is four spaces, can contain any number of statements\n",
    "- single quotes and double quotes do the same thing, use double when string contains apostrophe/single quote\n",
    "- can type function definition in interactive mode, interpreter prints ellipses to indicate definition is not complete, enter an empty line to end function (not necessary in script)\n",
    "- the value of the function is a function object, which has type 'function'\n",
    "- syntax for calling new function same as calling built-in functions\n",
    "- can use a defined function inside another function"
   ]
  },
  {
   "cell_type": "markdown",
   "metadata": {},
   "source": [
    "**3.6**\n",
    "- function definitions get executed like other statements\n",
    "- effect is to create function objects\n",
    "- statements inside function do not get executed until function is called\n",
    "- function definition generates no output\n",
    "- must define function before you can execute it  \n",
    "**Exercise 1**  \n",
    "Calling a function before you define it results in a name error.  \n",
    "**Exercise 2**  \n",
    "It works, because the statements inside repeat_lyrics do not get executed until repeat_lyrics is called, which is after print_lyrics is defined."
   ]
  },
  {
   "cell_type": "markdown",
   "metadata": {},
   "source": [
    "**3.7**\n",
    "- flow of execution is order in which statements are executed\n",
    "- begins at first statement of program, executed one at a time, from top to bottom\n",
    "- function call is like a detour in flow of execution: jumps back to body of function, executes statements there, then picks up where it left off\n",
    "- can get complicated when functions call other functions\n",
    "- python can deal with complexity\n",
    "- when gets to the end of program, it terminates\n",
    "- it makes more sense to read a program in the flow of execution than top to bottom"
   ]
  },
  {
   "cell_type": "markdown",
   "metadata": {},
   "source": [
    "**3.8**\n",
    "- some functions require argument(s)\n",
    "- inside function, arguments are assigned to variables called parameters\n",
    "- works exactly like in matlab, i know how to argument\n",
    "- name of variable passed as an argument has nothing to do with the name of the parameter"
   ]
  },
  {
   "cell_type": "markdown",
   "metadata": {},
   "source": [
    "**3.9**\n",
    "- variable created inside a function is local: only exists inside the function\n",
    "- when function terminates, the local variable is destroyed\n",
    "- parameters are also local (do not exist outside the function)"
   ]
  },
  {
   "cell_type": "markdown",
   "metadata": {},
   "source": [
    "**3.10**\n",
    "- stack diagrams show value of each variable and function they belong to\n",
    "- each function represented by a frame\n",
    "- frame is bow with name of function beside it, parameters and variables of function inside it\n",
    "- arranged in a stack that indicates which function called which\n",
    "- `__`main`__` is special name for topmost frame: variables outside of any function belong to `__`main`__`\n",
    "- if error occurs during function call, python prints name of function, name of function that called it, name of function that called that, all the way back to `__`main`__`\n",
    "- list of functions called traceback: tells what program file error occurred in, what line, what functions were executing at the time, also line of code that caused error"
   ]
  },
  {
   "cell_type": "markdown",
   "metadata": {},
   "source": [
    "**3.11**\n",
    "- fruitful functions yield results\n",
    "- void functions perform an action but don't return a value\n",
    "- when calling a fruitful functions, you probably want to do something with the result\n",
    "- in interactive mode, python displays the result\n",
    "- in script, calling fruitful function without storing or displaying the result doesn't do anything\n",
    "- void functions don't have a return value\n",
    "- if you assign the result of a void function to a variable, you get special value called None"
   ]
  },
  {
   "cell_type": "markdown",
   "metadata": {},
   "source": [
    "**3.12**\n",
    "- reasons to use functions\n",
    "  - opportunity to name group of statements, which makes program easier to read and debug\n",
    "  - functions make program smaller by eliminating repetitive code (if you make a change later, only make it in one place\n",
    "  - dividing a long program into functions lets you debug parts individually then assemble into working whole\n",
    "  - well-designed functions can be useful for many programs, can be reused"
   ]
  },
  {
   "cell_type": "markdown",
   "metadata": {},
   "source": [
    "**3.13**\n",
    "- if you \" import math \", accessing pi is like \" math.pi \"\n",
    "- if you \" from math import pi \", accessing pi is like \" pi \"\n",
    "- or \" from math import * \" and you can access all the things in the module\n",
    "- advantage: code can be more concise\n",
    "- disadvantage: might be conflicts between names defined in different modules, or between name from module and one of your variables"
   ]
  },
  {
   "cell_type": "markdown",
   "metadata": {},
   "source": [
    "**3.14**\n",
    "- if using a text editor to write scripts, might run into problems with spaces and tabs: just use spaces, try to find an editor that manages indentation for you\n",
    "- save your program before you run it\n",
    "- try writing something like \" print 'hello' \" at the beginning, see if it shows up"
   ]
  },
  {
   "cell_type": "markdown",
   "metadata": {},
   "source": [
    "### Exercise 3\n",
    "\n",
    "Python provides a built-in function called len that returns the length of a string, so the value of len('allen') is 5.\n",
    "Write a function named right_justify that takes a string named s as a parameter and prints the string with enough leading spaces so that the last letter of the string is in column 70 of the display.\n",
    "\n",
    "```\n",
    ">>> right_justify('allen')\n",
    "                                                                 allen```"
   ]
  },
  {
   "cell_type": "code",
   "execution_count": 23,
   "metadata": {
    "collapsed": false
   },
   "outputs": [
    {
     "name": "stdout",
     "output_type": "stream",
     "text": [
      "                                        hello there i think this works\n",
      "                                                                     |\n"
     ]
    }
   ],
   "source": [
    "def right_justify(s):\n",
    "    length = len(s)\n",
    "    num_spaces = 70 - length\n",
    "    space = ' '\n",
    "    print ' '*num_spaces + s\n",
    "    print ' '*69 + '|'\n",
    "    \n",
    "right_justify('hello there i think this works')"
   ]
  },
  {
   "cell_type": "markdown",
   "metadata": {},
   "source": [
    "### Exercise 5\n",
    "\n",
    "This exercise can be done using only the statements and other features we have learned so far.\n",
    "\n",
    "(a) Write a function that draws a grid like the following:\n",
    "```\n",
    "+ - - - - + - - - - +\n",
    "|         |         |\n",
    "|         |         |\n",
    "|         |         |\n",
    "|         |         |\n",
    "+ - - - - + - - - - +\n",
    "|         |         |\n",
    "|         |         |\n",
    "|         |         |\n",
    "|         |         |\n",
    "+ - - - - + - - - - +\n",
    "```\n",
    "**Hint:** to print more than one value on a line, you can print a comma-separated sequence:\n",
    "print '+', '-'\n",
    "If the sequence ends with a comma, Python leaves the line unfinished, so the value printed next appears on the same line.\n",
    "print '+', \n",
    "print '-'\n",
    "The output of these statements is '+ -'.\n",
    "A print statement all by itself ends the current line and goes to the next line."
   ]
  },
  {
   "cell_type": "code",
   "execution_count": 34,
   "metadata": {
    "collapsed": false
   },
   "outputs": [
    {
     "name": "stdout",
     "output_type": "stream",
     "text": [
      "+ - - - - + - - - - +\n",
      "|         |         |\n",
      "|         |         |\n",
      "|         |         |\n",
      "|         |         |\n",
      "+ - - - - + - - - - +\n",
      "|         |         |\n",
      "|         |         |\n",
      "|         |         |\n",
      "|         |         |\n",
      "+ - - - - + - - - - +\n"
     ]
    }
   ],
   "source": [
    "def grid():\n",
    "    print '+', '- - - -', '+', '- - - -', '+'\n",
    "    print '|', '       ', '|', '       ', '|'\n",
    "    print '|', '       ', '|', '       ', '|'\n",
    "    print '|', '       ', '|', '       ', '|'\n",
    "    print '|', '       ', '|', '       ', '|'\n",
    "    print '+', '- - - -', '+', '- - - -', '+'\n",
    "    print '|', '       ', '|', '       ', '|'\n",
    "    print '|', '       ', '|', '       ', '|'\n",
    "    print '|', '       ', '|', '       ', '|'\n",
    "    print '|', '       ', '|', '       ', '|'\n",
    "    print '+', '- - - -', '+', '- - - -', '+'\n",
    "\n",
    "grid()"
   ]
  },
  {
   "cell_type": "markdown",
   "metadata": {},
   "source": [
    "(b) Write a function that draws a similar grid with four rows and four columns."
   ]
  },
  {
   "cell_type": "code",
   "execution_count": 62,
   "metadata": {
    "collapsed": false,
    "scrolled": true
   },
   "outputs": [
    {
     "name": "stdout",
     "output_type": "stream",
     "text": [
      "+ - - - - + - - - - + - - - - + - - - - + \n",
      "|         |         |         |         | \n",
      "|         |         |         |         | \n",
      "|         |         |         |         | \n",
      "|         |         |         |         | \n",
      "+ - - - - + - - - - + - - - - + - - - - + \n",
      "|         |         |         |         | \n",
      "|         |         |         |         | \n",
      "|         |         |         |         | \n",
      "|         |         |         |         | \n",
      "+ - - - - + - - - - + - - - - + - - - - + \n",
      "|         |         |         |         | \n",
      "|         |         |         |         | \n",
      "|         |         |         |         | \n",
      "|         |         |         |         | \n",
      "+ - - - - + - - - - + - - - - + - - - - + \n",
      "|         |         |         |         | \n",
      "|         |         |         |         | \n",
      "|         |         |         |         | \n",
      "|         |         |         |         | \n",
      "+ - - - - + - - - - + - - - - + - - - - + \n"
     ]
    }
   ],
   "source": [
    "def grid_n(n):\n",
    "    plus = '+ '\n",
    "    minuses = '- - - - '\n",
    "    pipe = '| '\n",
    "    spaces = '        '\n",
    "    horiz_row = (plus + minuses)*n + plus\n",
    "    vert_row = (pipe + spaces)*n + pipe\n",
    "    if n >= 0:\n",
    "        for x in range(n):\n",
    "            print horiz_row\n",
    "            for y in range (4):\n",
    "                print vert_row\n",
    "        print horiz_row\n",
    "\n",
    "grid_n(4)"
   ]
  },
  {
   "cell_type": "markdown",
   "metadata": {},
   "source": [
    "## Chapter 5.1 - 5.7"
   ]
  },
  {
   "cell_type": "markdown",
   "metadata": {},
   "source": [
    "**5.1**\n",
    "- modulus operater works on integers, yields remainder when first operand is divided by second, is %\n",
    "- x % 10 yields right-most digit of x, x % 100 yields last two digits"
   ]
  },
  {
   "cell_type": "markdown",
   "metadata": {},
   "source": [
    "**5.2**\n",
    "- boolean expression is expression that is either true or false\n",
    "- use relational operators: ==, !=, >, <, >=, <=\n",
    "- True and False are special values of type bool, not strings"
   ]
  },
  {
   "cell_type": "markdown",
   "metadata": {},
   "source": [
    "**5.3**\n",
    "- logical operators: and, or, not\n",
    "- and is true only if both conditions are true\n",
    "- or is true if either condition or true\n",
    "- not negates a boolean expression"
   ]
  },
  {
   "cell_type": "markdown",
   "metadata": {},
   "source": [
    "**5.4**\n",
    "- conditional statements give ability to check conditions, change behavior of program accordingly\n",
    "- simplest conditional statement is if statement\n",
    "- boolean expression after if is called the condition: if true, indented statement gets executed; if false, nothing happens\n",
    "- compound statements have header followed by indented body (includes if statements and function definitions)\n",
    "- no limit to number of statements in body, but minimum one\n",
    "- if you need a place keeper/body with no statements, use pass statement which does nothing"
   ]
  },
  {
   "cell_type": "markdown",
   "metadata": {},
   "source": [
    "**5.5**\n",
    "- alternative execution: there are two possibilties and condition determines which gets executed (if, else)\n",
    "- alternatives are called branches"
   ]
  },
  {
   "cell_type": "markdown",
   "metadata": {},
   "source": [
    "**5.6**\n",
    "- chained conditional: more than two possibilities, need more than two branches (if, elif, else)\n",
    "- elif is abbreviation of \"else if\", no limit on number of elif statements\n",
    "- if an else clause, must be at end, but does not have to be one"
   ]
  },
  {
   "cell_type": "markdown",
   "metadata": {},
   "source": [
    "**5.7**\n",
    "- conditionals can be nested\n",
    "- indentation makes structure apparent, become difficult to read quickly. good to avoid\n",
    "- logical operators help"
   ]
  },
  {
   "cell_type": "markdown",
   "metadata": {},
   "source": [
    "### Exercise 3  \n",
    "\n",
    "Fermat’s Last Theorem says that there are no positive integers a, b, and c such that $a^n + b^n = c^n$ for any values of n greater than 2.\n",
    "\n",
    "(a) Write a function named `check_fermat` that takes four parameters—a, b, c and n—and that checks to see if Fermat’s theorem holds. If n is greater than 2 and it turns out to be true that\n",
    "$a^n + b^n = c^n$ the program should print, \"Holy smokes, Fermat was wrong!\" Otherwise the program should print, \"No, that doesn’t work.\""
   ]
  },
  {
   "cell_type": "code",
   "execution_count": 69,
   "metadata": {
    "collapsed": false
   },
   "outputs": [
    {
     "name": "stdout",
     "output_type": "stream",
     "text": [
      "Yes, that follows Fermat's Last Theorem.\n"
     ]
    }
   ],
   "source": [
    "def check_fermat(a,b,c,n):\n",
    "    if a**n + b**n == c**n and n > 2:\n",
    "        print 'Holy smokes, Fermat was wrong!'\n",
    "    elif a**n + b**n == c**n and n == 2:\n",
    "        print \"Yes, that follows Fermat's Last Theorem.\" # when n=2, it works. i disobeyed the instructions in favor of not lying.\n",
    "    else:\n",
    "        print \"No, that doesn't work.\"\n",
    "\n",
    "check_fermat(3,4,5,2)"
   ]
  },
  {
   "cell_type": "markdown",
   "metadata": {},
   "source": [
    "(b) Write a function that prompts the user to input values for a, b, c and n, converts them to integers, and uses check_fermat to check whether they violate Fermat’s theorem."
   ]
  },
  {
   "cell_type": "code",
   "execution_count": 71,
   "metadata": {
    "collapsed": false
   },
   "outputs": [
    {
     "name": "stdout",
     "output_type": "stream",
     "text": [
      "a=3\n",
      "b=4\n",
      "c=5\n",
      "n=2\n",
      "Yes, that follows Fermat's Last Theorem.\n"
     ]
    }
   ],
   "source": [
    "value_a = int(input('a='))\n",
    "value_b = int(input('b='))\n",
    "value_c = int(input('c='))\n",
    "value_n = int(input('n='))\n",
    "\n",
    "check_fermat(value_a,value_b,value_c,value_n)"
   ]
  },
  {
   "cell_type": "markdown",
   "metadata": {},
   "source": [
    "### Exercise 4  \n",
    "\n",
    "If you are given three sticks, you may or may not be able to arrange them in a triangle. For example, if one of the sticks is 12 inches long and the other two are one inch long, it is clear that you will not be able to get the short sticks to meet in the middle. For any three lengths, there is a simple test to see if it is possible to form a triangle:\n",
    "> If any of the three lengths is greater than the sum of the other two, then you cannot form a triangle. Otherwise, you can. (If the sum of two lengths equals the third, they form what is called a “degenerate” triangle.)\n",
    "\n",
    "(a) Write a function named `is_triangle` that takes three integers as arguments, and that prints either \"Yes\" or \"No,\" depending on whether you can or cannot form a triangle from sticks with the given lengths."
   ]
  },
  {
   "cell_type": "code",
   "execution_count": null,
   "metadata": {
    "collapsed": true
   },
   "outputs": [],
   "source": [
    "def is_triangle(a,b,c):\n",
    "    if a + b < c or a + c < b or b + c < a:\n",
    "        print 'No'\n",
    "    else:\n",
    "        print 'Yes'\n"
   ]
  },
  {
   "cell_type": "markdown",
   "metadata": {},
   "source": [
    "(b) Write a function that prompts the user to input three stick lengths, converts them to integers, and uses is_triangle to check whether sticks with the given lengths can form a triangle."
   ]
  },
  {
   "cell_type": "code",
   "execution_count": 72,
   "metadata": {
    "collapsed": false
   },
   "outputs": [
    {
     "name": "stdout",
     "output_type": "stream",
     "text": [
      "Length of first side:1\n",
      "Length of next side:2\n",
      "Length of last side:5\n"
     ]
    },
    {
     "ename": "NameError",
     "evalue": "name 'is_triangle' is not defined",
     "output_type": "error",
     "traceback": [
      "\u001b[1;31m---------------------------------------------------------------------------\u001b[0m",
      "\u001b[1;31mNameError\u001b[0m                                 Traceback (most recent call last)",
      "\u001b[1;32m<ipython-input-72-a254e165ee16>\u001b[0m in \u001b[0;36m<module>\u001b[1;34m()\u001b[0m\n\u001b[0;32m      3\u001b[0m \u001b[0mlength_c\u001b[0m \u001b[1;33m=\u001b[0m \u001b[0mint\u001b[0m\u001b[1;33m(\u001b[0m\u001b[0minput\u001b[0m\u001b[1;33m(\u001b[0m\u001b[1;34m'Length of last side:'\u001b[0m\u001b[1;33m)\u001b[0m\u001b[1;33m)\u001b[0m\u001b[1;33m\u001b[0m\u001b[0m\n\u001b[0;32m      4\u001b[0m \u001b[1;33m\u001b[0m\u001b[0m\n\u001b[1;32m----> 5\u001b[1;33m \u001b[0mis_triangle\u001b[0m\u001b[1;33m(\u001b[0m\u001b[0mlength_a\u001b[0m\u001b[1;33m,\u001b[0m\u001b[0mlength_b\u001b[0m\u001b[1;33m,\u001b[0m\u001b[0mlength_c\u001b[0m\u001b[1;33m)\u001b[0m\u001b[1;33m\u001b[0m\u001b[0m\n\u001b[0m",
      "\u001b[1;31mNameError\u001b[0m: name 'is_triangle' is not defined"
     ]
    }
   ],
   "source": [
    "length_a = int(input('Length of first side:'))\n",
    "length_b = int(input('Length of next side:'))\n",
    "length_c = int(input('Length of last side:'))\n",
    "\n",
    "is_triangle(length_a,length_b,length_c)"
   ]
  },
  {
   "cell_type": "markdown",
   "metadata": {},
   "source": [
    "## Notes for the Instructors\n",
    "\n",
    "Please use the space below to write comments to help us plan the next class session.  For instance, if you want to see us go over an example of a particular type of problem, you can indicate that here.\n",
    "\n",
    "Please remember that the best way to get quick feedback from the instructors as well as your peers, is to use Piazza.  However, consider using this channel if it doesn't make sense to post your note to Piazza."
   ]
  },
  {
   "cell_type": "markdown",
   "metadata": {},
   "source": []
  }
 ],
 "metadata": {
  "kernelspec": {
   "display_name": "Python 2",
   "language": "python",
   "name": "python2"
  },
  "language_info": {
   "codemirror_mode": {
    "name": "ipython",
    "version": 2
   },
   "file_extension": ".py",
   "mimetype": "text/x-python",
   "name": "python",
   "nbconvert_exporter": "python",
   "pygments_lexer": "ipython2",
   "version": "2.7.6"
  }
 },
 "nbformat": 4,
 "nbformat_minor": 0
}
