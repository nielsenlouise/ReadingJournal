{
 "cells": [
  {
   "cell_type": "markdown",
   "metadata": {},
   "source": [
    "# Day 2 Reading Journal\n",
    "\n",
    "This journal includes several required exercises, but it is meant to encourage active reading more generally.  You should use the journal to take detailed notes, catalog questions, and explore the content from Think Python deeply.\n",
    "\n",
    "Reading: Think Python Chapter 6.1-6.4, 7\n",
    "\n",
    "**Due: Thursday, January 28 at 12 noon**\n",
    "\n"
   ]
  },
  {
   "cell_type": "markdown",
   "metadata": {},
   "source": [
    "## [Chapter 6.1-6.4](http://www.greenteapress.com/thinkpython/html/thinkpython007.html)\n",
    "\n",
    "Note: the exercise numbers below match up with the reading for ease of cross referencing."
   ]
  },
  {
   "cell_type": "markdown",
   "metadata": {},
   "source": [
    "**6.1**\n",
    "- fruitful functions generate return values\n",
    "- written at the end of the function body as \" return variablename \"\n",
    "- temporary variables often make debugging easier\n",
    "- function terminates without executing later statements after executing return statements\n",
    "- dead code appears after a return statement (or elsewhere that flow of execution can never reach)\n",
    "- make sure that fruitful functions reach return statement through every possible path"
   ]
  },
  {
   "cell_type": "markdown",
   "metadata": {},
   "source": [
    "**Quick check:** What is a _fruitful function_?\n",
    "\n",
    "A fruitful function generates a return value."
   ]
  },
  {
   "cell_type": "markdown",
   "metadata": {},
   "source": [
    " "
   ]
  },
  {
   "cell_type": "markdown",
   "metadata": {},
   "source": [
    "### Exercise 1  \n",
    "Write a `compare` function that returns `1` if `x > y`, `0` if `x == y`, and `-1` if `x < y`."
   ]
  },
  {
   "cell_type": "code",
   "execution_count": null,
   "metadata": {
    "collapsed": true
   },
   "outputs": [],
   "source": [
    "def compare(x,y):\n",
    "    if x > y:\n",
    "        return 1\n",
    "    elif x == y:\n",
    "        return 0\n",
    "    elif x < y:\n",
    "        return -1"
   ]
  },
  {
   "cell_type": "markdown",
   "metadata": {},
   "source": [
    "**Quick check:** Modify the `absolute_value` function so that it returns the correct result for all integer inputs."
   ]
  },
  {
   "cell_type": "code",
   "execution_count": 1,
   "metadata": {
    "collapsed": true
   },
   "outputs": [],
   "source": [
    "def absolute_value(x):\n",
    "    if x < 0:\n",
    "        return -x\n",
    "    if x >= 0:\n",
    "        return x"
   ]
  },
  {
   "cell_type": "markdown",
   "metadata": {},
   "source": [
    "**6.2**\n",
    "- incremental development is adding and testing small amounts of code at once\n",
    "- start super simple, then test, and then get a little bit more complicated at once, and test it each time\n",
    "- using print statements is useful for debugging but should be removed when function works\n",
    "- that's called scaffolding\n",
    "- how to incremental development\n",
    "  1. start with a working program, make small incremental changes. if you have an error, you should have a good idea where.\n",
    "  2. use temporary variables to hold intermediate values to display and check them.\n",
    "  3. once working, maybe remove some of scaffolding or consolidate multiple statements into compound expressions"
   ]
  },
  {
   "cell_type": "markdown",
   "metadata": {},
   "source": [
    "### Exercise 2  \n",
    "Use incremental development to write a function called `hypotenuse` that returns the length of the hypotenuse of a right triangle given the lengths of the two legs as arguments. Record each stage of the development process as you go, using as many cells as you need."
   ]
  },
  {
   "cell_type": "code",
   "execution_count": 2,
   "metadata": {
    "collapsed": false
   },
   "outputs": [
    {
     "data": {
      "text/plain": [
       "0.0"
      ]
     },
     "execution_count": 2,
     "metadata": {},
     "output_type": "execute_result"
    }
   ],
   "source": [
    "def hypotenuse(a,b):\n",
    "    return 0.0\n",
    "\n",
    "hypotenuse(3,4)"
   ]
  },
  {
   "cell_type": "code",
   "execution_count": 4,
   "metadata": {
    "collapsed": false
   },
   "outputs": [
    {
     "name": "stdout",
     "output_type": "stream",
     "text": [
      "25\n"
     ]
    },
    {
     "data": {
      "text/plain": [
       "0.0"
      ]
     },
     "execution_count": 4,
     "metadata": {},
     "output_type": "execute_result"
    }
   ],
   "source": [
    "def hypotenuse(a,b):\n",
    "    sum_squares = a**2 + b**2\n",
    "    print sum_squares\n",
    "    return 0.0\n",
    "\n",
    "hypotenuse(3,4)"
   ]
  },
  {
   "cell_type": "code",
   "execution_count": 5,
   "metadata": {
    "collapsed": false
   },
   "outputs": [
    {
     "name": "stdout",
     "output_type": "stream",
     "text": [
      "25\n",
      "5.0\n"
     ]
    },
    {
     "data": {
      "text/plain": [
       "0.0"
      ]
     },
     "execution_count": 5,
     "metadata": {},
     "output_type": "execute_result"
    }
   ],
   "source": [
    "import math\n",
    "\n",
    "def hypotenuse(a,b):\n",
    "    sum_squares = a**2 + b**2\n",
    "    print sum_squares\n",
    "    hyp = math.sqrt(sum_squares)\n",
    "    print hyp\n",
    "    return 0.0\n",
    "\n",
    "hypotenuse(3,4)"
   ]
  },
  {
   "cell_type": "code",
   "execution_count": 7,
   "metadata": {
    "collapsed": false
   },
   "outputs": [
    {
     "data": {
      "text/plain": [
       "5.0"
      ]
     },
     "execution_count": 7,
     "metadata": {},
     "output_type": "execute_result"
    }
   ],
   "source": [
    "def hypotenuse(a,b):\n",
    "    hyp = math.sqrt(a**2 + b**2)\n",
    "    return hyp\n",
    "\n",
    "hypotenuse(3,4)"
   ]
  },
  {
   "cell_type": "markdown",
   "metadata": {},
   "source": [
    "**6.3**\n",
    "- calling one function from within another is called composition\n",
    "- it works"
   ]
  },
  {
   "cell_type": "markdown",
   "metadata": {},
   "source": [
    "**6.4**\n",
    "- functions can return booleans\n",
    "- common to give boolean functions names that sound like yes/no questions: i.e. is_divisible"
   ]
  },
  {
   "cell_type": "markdown",
   "metadata": {},
   "source": [
    "### Exercise 3  \n",
    "Write a function `is_between(x, y, z)` that returns `True` if `x ≤ y ≤ z` or `False` otherwise."
   ]
  },
  {
   "cell_type": "code",
   "execution_count": 11,
   "metadata": {
    "collapsed": false
   },
   "outputs": [
    {
     "data": {
      "text/plain": [
       "False"
      ]
     },
     "execution_count": 11,
     "metadata": {},
     "output_type": "execute_result"
    }
   ],
   "source": [
    "def is_between(x,y,z):\n",
    "    return x <= y and y <= z\n",
    "\n",
    "is_between(3,2,4)"
   ]
  },
  {
   "cell_type": "markdown",
   "metadata": {},
   "source": [
    "## [Chapter 7](http://www.greenteapress.com/thinkpython/html/thinkpython008.html)\n",
    "\n"
   ]
  },
  {
   "cell_type": "markdown",
   "metadata": {},
   "source": [
    "**Quick check:** How do you test for equality in Python?\n",
    "- =="
   ]
  },
  {
   "cell_type": "markdown",
   "metadata": {},
   "source": [
    "**7.1**\n",
    "- you can make more than one assignment to same variable. new assignment makes variable refer to new value\n",
    "- it's called multiple assignment\n",
    "- statement of assignment is different from statemnet of equality"
   ]
  },
  {
   "cell_type": "markdown",
   "metadata": {},
   "source": [
    "**7.2**\n",
    "- common form of multiple assignment is update where new value of variable depends on old (i.e. x = x + 1)\n",
    "- before updating a variable, must initialize it: usually with simple assignment\n",
    "- updating by adding 1 is increment, subtrating 1 is decrement"
   ]
  },
  {
   "cell_type": "markdown",
   "metadata": {},
   "source": [
    "**7.3**\n",
    "- recursion performs repetition, is also called iteration\n",
    "- because iteration is common, lots of features make it easier\n",
    "- while statements exist\n",
    "- called a loop\n",
    "- body of loop should change value of one or more variables over time so eventually condition becomes false\n",
    "- otherwise infinite loop"
   ]
  },
  {
   "cell_type": "markdown",
   "metadata": {},
   "source": [
    " "
   ]
  },
  {
   "cell_type": "markdown",
   "metadata": {},
   "source": [
    "**Challenge:** Prove/disprove the Collatz conjecture :)"
   ]
  },
  {
   "cell_type": "markdown",
   "metadata": {},
   "source": [
    "**7.4**\n",
    "- you can make break be a part of the body of a conditional and it will end the loop"
   ]
  },
  {
   "cell_type": "markdown",
   "metadata": {},
   "source": [
    "**7.5**\n",
    "- loops often used where computing numerical results by starting with approximate answer and iteratively improving it\n",
    "- instead of saying x = y, say abs(y-x) < .0000001"
   ]
  },
  {
   "cell_type": "markdown",
   "metadata": {},
   "source": [
    "### Exercise 2  \n",
    "Encapsulate the loop from Section 7.5 in a function called `square_root` that takes `a` as a parameter, chooses a reasonable value of `x`, and returns an estimate of the square root of `a`."
   ]
  },
  {
   "cell_type": "code",
   "execution_count": 130,
   "metadata": {
    "collapsed": false
   },
   "outputs": [
    {
     "data": {
      "text/plain": [
       "3.0"
      ]
     },
     "execution_count": 130,
     "metadata": {},
     "output_type": "execute_result"
    }
   ],
   "source": [
    "def square_root(a):\n",
    "    epsilon = 1e-15\n",
    "    x = float(a)/2\n",
    "    while True:\n",
    "        y = (x + a/x) / 2\n",
    "        if abs(y-x) < epsilon:\n",
    "            break\n",
    "        x = y\n",
    "    return x\n",
    "\n",
    "square_root(9.0)"
   ]
  },
  {
   "cell_type": "markdown",
   "metadata": {},
   "source": [
    "**7.6**\n",
    "- newton's method of square rooting in Exercise 2 is an algorithm\n",
    "- algorithm is mechanical process for solving category of problems\n",
    "- algorithms take no intelligence to carry out; each step follows from the last according to rules\n",
    "- designing algorithms is interesting, challenging, central to programming"
   ]
  },
  {
   "cell_type": "markdown",
   "metadata": {},
   "source": [
    "**7.7**\n",
    "- more code means more chances to mess up, therefore more places for bugs to hide\n",
    "- bugging by bisection\n",
    "- really, just look for good spots to put checks and let checks happen to figure out what to do with it"
   ]
  },
  {
   "cell_type": "markdown",
   "metadata": {},
   "source": [
    "### Exercise 3  \n",
    "To test the square root algorithm you developed in Exercise 2, you could compare it with Python's `math.sqrt` function. Write a function named `test_square_root` that prints a table like this:\n",
    "\n",
    "```python\n",
    "1.0 1.0           1.0           0.0\n",
    "2.0 1.41421356237 1.41421356237 2.22044604925e-16\n",
    "3.0 1.73205080757 1.73205080757 0.0\n",
    "4.0 2.0           2.0           0.0\n",
    "5.0 2.2360679775  2.2360679775  0.0\n",
    "6.0 2.44948974278 2.44948974278 0.0\n",
    "7.0 2.64575131106 2.64575131106 0.0\n",
    "8.0 2.82842712475 2.82842712475 4.4408920985e-16\n",
    "9.0 3.0           3.0           0.0\n",
    "```\n",
    "\n",
    "The first column is a number, `a`; the second column is the square root of a computed with the function from Section 7.5; the third column is the square root computed by `math.sqrt`; the fourth column is the absolute value of the difference between the two estimates."
   ]
  },
  {
   "cell_type": "code",
   "execution_count": 133,
   "metadata": {
    "collapsed": false
   },
   "outputs": [
    {
     "name": "stdout",
     "output_type": "stream",
     "text": [
      "1.0 1.0           1.0           0.0\n",
      "2.0 1.41421356237 1.41421356237 5.10702591328e-15\n",
      "3.0 1.73205080757 1.73205080757 2.28705943073e-14\n",
      "4.0 2.0           2.0           0.0\n",
      "5.0 2.2360679775  2.2360679775  1.02140518266e-14\n",
      "6.0 2.44948974278 2.44948974278 2.13162820728e-14\n",
      "7.0 2.64575131106 2.64575131106 9.32587340685e-15\n",
      "8.0 2.82842712475 2.82842712475 1.02140518266e-14\n",
      "9.0 3.0           3.0           0.0\n"
     ]
    }
   ],
   "source": [
    "import math\n",
    "\n",
    "def test_square_root():\n",
    "    A = range(10)[1:]\n",
    "    Newtoned = []\n",
    "    Calculated = []\n",
    "    Diff = []\n",
    "    for i in range(len(A)):\n",
    "        A[i] = float(A[i])\n",
    "        Newtoned.append(round(square_root(A[i]),16))\n",
    "        Calculated.append(round(math.sqrt(A[i]),13))\n",
    "        Diff.append(abs(Newtoned[i] - Calculated[i]))\n",
    "        print A[i],\n",
    "        print str(Newtoned[i]) + ' '*(13-len(str(Newtoned[i]))),\n",
    "        print str(Calculated[i]) + ' '*(13 - len(str(Calculated[i]))),\n",
    "        print Diff[i]\n",
    "    \n",
    "test_square_root()"
   ]
  },
  {
   "cell_type": "markdown",
   "metadata": {},
   "source": [
    "### Challenge: Exercise 5  (optional)\n",
    "The mathematician Srinivasa Ramanujan found an infinite series that can be used to generate a numerical approximation of\n",
    "$\\frac{1}{\\pi}$:\n",
    "\n",
    "$$\\frac{1}{\\pi} = \\frac{2 \\sqrt{2}}{9801} \\sum_{k=0}^{\\infty} \\frac{(4k)! (1103+26390k)}{(k!)^4 396^{4k}}$$\n",
    " \n",
    "Write a function called `estimate_pi` that uses this formula to compute and return an estimate of $\\pi$. It should use a `while` loop to compute terms of the summation until the last term is smaller than `1e-15` (which is Python notation for $10^{−15}$). You can check the result by comparing it to `math.pi`.\n",
    "\n",
    "[Possible solution](http://thinkpython.com/code/pi.py) (give the exercise a try before viewing the solution)"
   ]
  },
  {
   "cell_type": "code",
   "execution_count": 166,
   "metadata": {
    "collapsed": false
   },
   "outputs": [
    {
     "name": "stdout",
     "output_type": "stream",
     "text": [
      "boats\n",
      "boats\n",
      "boats\n",
      "boats\n",
      "1.9950749945e-21 boats!\n",
      "3 k\n",
      "0.000288585565223 constant\n",
      "1103.00002683 x\n",
      "0.318309886184 x*constant\n",
      "3.14159265359\n",
      "3.14159265359 math.pi\n"
     ]
    }
   ],
   "source": [
    "def estimate_pi():\n",
    "    constant = 2 * math.sqrt(2) / 9801\n",
    "    x = 0\n",
    "    k = 0\n",
    "    while True:\n",
    "        numerator = math.factorial(4*k)*(1103. + 26390*k)\n",
    "        denominator = (math.factorial(k))**4 * 396.**(4*k)\n",
    "        print 'boats'\n",
    "        term = numerator/denominator\n",
    "        x += term\n",
    "        if abs(term) < 1e-15:\n",
    "            print term, 'boats!'\n",
    "            break\n",
    "        k += 1\n",
    "    final = (x * constant)**-1\n",
    "    print k, 'k'\n",
    "    print constant, 'constant'\n",
    "    print x, 'x'\n",
    "    print x*constant, 'x*constant'\n",
    "    return final\n",
    "\n",
    "print estimate_pi()\n",
    "print math.pi, 'math.pi'"
   ]
  },
  {
   "cell_type": "markdown",
   "metadata": {},
   "source": [
    "## Reading Journal feedback\n",
    "\n",
    "Have any comments on this Reading Journal? Feel free to leave them below and we'll read them when you submit your journal entry. This could include suggestions to improve the exercises, topics you'd like to see covered in class next time, or other feedback.\n",
    "\n",
    "If you have Python questions or run into problems while completing the reading, you should post them to Piazza instead so you can get a quick response before your journal is submitted."
   ]
  },
  {
   "cell_type": "markdown",
   "metadata": {},
   "source": [
    " "
   ]
  }
 ],
 "metadata": {
  "kernelspec": {
   "display_name": "Python 2",
   "language": "python",
   "name": "python2"
  },
  "language_info": {
   "codemirror_mode": {
    "name": "ipython",
    "version": 2
   },
   "file_extension": ".py",
   "mimetype": "text/x-python",
   "name": "python",
   "nbconvert_exporter": "python",
   "pygments_lexer": "ipython2",
   "version": "2.7.6"
  }
 },
 "nbformat": 4,
 "nbformat_minor": 0
}
