{
 "cells": [
  {
   "cell_type": "markdown",
   "metadata": {},
   "source": [
    "# Day 10 Reading Journal\n",
    "\n",
    "This journal includes several required exercises, but it is meant to encourage active reading more generally.  You should use the journal to take detailed notes, catalog questions, and explore the content from Think Python deeply.\n",
    "\n",
    "Reading: Think Python Chapter 16, 17\n",
    "\n",
    "**Due: Thursday, February 25 at 12 noon**\n",
    "\n"
   ]
  },
  {
   "cell_type": "markdown",
   "metadata": {},
   "source": [
    "## [Chapter 16](http://www.greenteapress.com/thinkpython/html/thinkpython017.html)\n"
   ]
  },
  {
   "cell_type": "markdown",
   "metadata": {
    "is_question": true,
    "problem": "Exercise 16.2"
   },
   "source": [
    "### Exercise 2  \n",
    "\n",
    "Write a boolean function called `is_after` that takes two `Time` objects, `t1` and `t2`, and returns `True` if `t1` follows `t2` chronologically and `False` otherwise. Challenge: don’t use an `if` statement. "
   ]
  },
  {
   "cell_type": "code",
   "execution_count": 23,
   "metadata": {
    "collapsed": false,
    "solution": "Exercise 16.2"
   },
   "outputs": [
    {
     "name": "stdout",
     "output_type": "stream",
     "text": [
      "Finding tests in NoName\n",
      "Trying:\n",
      "    time = Time()\n",
      "Expecting nothing\n",
      "ok\n",
      "Trying:\n",
      "    time.hour = 1\n",
      "Expecting nothing\n",
      "ok\n",
      "Trying:\n",
      "    time.minute = 31\n",
      "Expecting nothing\n",
      "ok\n",
      "Trying:\n",
      "    time.second = 4\n",
      "Expecting nothing\n",
      "ok\n",
      "Trying:\n",
      "    time2 = Time()\n",
      "Expecting nothing\n",
      "ok\n",
      "Trying:\n",
      "    time2.hour = 1\n",
      "Expecting nothing\n",
      "ok\n",
      "Trying:\n",
      "    time2.minute = 31\n",
      "Expecting nothing\n",
      "ok\n",
      "Trying:\n",
      "    time2.second = 3\n",
      "Expecting nothing\n",
      "ok\n",
      "Trying:\n",
      "    print_time(time)\n",
      "Expecting:\n",
      "    '01:31:04'\n",
      "ok\n",
      "Trying:\n",
      "    print_time(time2)\n",
      "Expecting:\n",
      "    '01:31:03'\n",
      "ok\n",
      "Trying:\n",
      "    is_after(time, time2)\n",
      "Expecting:\n",
      "    True\n",
      "ok\n",
      "Trying:\n",
      "    is_after(time2, time)\n",
      "Expecting:\n",
      "    False\n",
      "ok\n"
     ]
    }
   ],
   "source": [
    "class Time(object):\n",
    "    \"\"\"repersents the time of day.\n",
    "    \n",
    "    attributes: hour, minute, second\n",
    "    \"\"\"\n",
    "    \n",
    "def print_time(t):\n",
    "    \"\"\"takes a Time objects and prints it in the form hour:minute:second\n",
    "    \n",
    "    >>> t1 = Time()\n",
    "    >>> t1.hour = 3\n",
    "    >>> t1.minute = 34\n",
    "    >>> t1.second = 7\n",
    "    >>> print_time(t1)\n",
    "    '03:34:07'\n",
    "    \"\"\"\n",
    "    return '{:02}:{:02}:{:02}'.format(t.hour, t.minute, t.second)\n",
    "    \n",
    "def is_after(t1, t2):\n",
    "    \"\"\"returns True is t1 follows t2 chronologically, returns False otherwise\n",
    "    \n",
    "    >>> time = Time()\n",
    "    >>> time.hour = 1\n",
    "    >>> time.minute = 31\n",
    "    >>> time.second = 4\n",
    "    >>> time2 = Time()\n",
    "    >>> time2.hour = 1\n",
    "    >>> time2.minute = 31\n",
    "    >>> time2.second = 3\n",
    "    >>> print_time(time)\n",
    "    '01:31:04'\n",
    "    >>> print_time(time2)\n",
    "    '01:31:03'\n",
    "    >>> is_after(time, time2)\n",
    "    True\n",
    "    >>> is_after(time2, time)\n",
    "    False\n",
    "    \"\"\"\n",
    "    return t1.hour*3600 + t1.minute*60 + t1.second > t2.hour*3600 + t2.minute*60 + t2.second\n",
    "    \n",
    "import doctest\n",
    "doctest.run_docstring_examples(is_after, globals(),verbose=True)"
   ]
  },
  {
   "cell_type": "markdown",
   "metadata": {},
   "source": [
    "## [Chapter 17](http://www.greenteapress.com/thinkpython/html/thinkpython018.html)\n",
    "\n",
    "In chapter 17 we finally have the tools to really put user-defined classes to work! In the exercises for this reading journal, we'll go back and add methods to your `Point` class from Chapter 15 to make it a lot easier to use."
   ]
  },
  {
   "cell_type": "markdown",
   "metadata": {
    "is_question": true,
    "problem": "Exercise 17.2"
   },
   "source": [
    "### Exercise 2  \n",
    "\n",
    "Write an init method for the `Point` class that takes `x` and `y` as optional parameters and assigns them to the corresponding attributes. "
   ]
  },
  {
   "cell_type": "code",
   "execution_count": 25,
   "metadata": {
    "collapsed": true,
    "solution": "Exercise 17.2"
   },
   "outputs": [],
   "source": [
    "class Point(object):\n",
    "    \"\"\"represents a point. has x and y value\n",
    "    \"\"\"\n",
    "    \n",
    "    def __init__(self, x=0, y=0):\n",
    "        self.x = x\n",
    "        self.y = y"
   ]
  },
  {
   "cell_type": "markdown",
   "metadata": {
    "is_question": true,
    "problem": "Exercise 17.3"
   },
   "source": [
    "### Exercise 3  \n",
    "\n",
    "Write a str method for the `Point` class. Create a `Point` object and print it."
   ]
  },
  {
   "cell_type": "code",
   "execution_count": 30,
   "metadata": {
    "collapsed": false,
    "solution": "Exercise 17.3"
   },
   "outputs": [
    {
     "name": "stdout",
     "output_type": "stream",
     "text": [
      "(1,2)\n"
     ]
    }
   ],
   "source": [
    "class Point(object):\n",
    "    \"\"\"represents a point. has x and y value\n",
    "    \"\"\"\n",
    "    \n",
    "    def __init__(self, x=0, y=0):\n",
    "        self.x = x\n",
    "        self.y = y\n",
    "        \n",
    "    def __str__(self):\n",
    "        return '({},{})'.format(self.x, self.y)\n",
    "    \n",
    "m = Point(1,2)\n",
    "print m"
   ]
  },
  {
   "cell_type": "markdown",
   "metadata": {
    "is_question": true,
    "problem": "Exercise 17.4"
   },
   "source": [
    "### Exercise 4  \n",
    "\n",
    "Write an add method for the `Point` class. Optional: implement operator overloading so that you can use the '+' operator."
   ]
  },
  {
   "cell_type": "code",
   "execution_count": 35,
   "metadata": {
    "collapsed": false,
    "solution": "Exercise 17.4"
   },
   "outputs": [
    {
     "name": "stdout",
     "output_type": "stream",
     "text": [
      "(7,6)\n"
     ]
    }
   ],
   "source": [
    "class Point(object):\n",
    "    \"\"\"represents a point. has x and y value\n",
    "    \"\"\"\n",
    "    \n",
    "    def __init__(self, x=0, y=0):\n",
    "        self.x = x\n",
    "        self.y = y\n",
    "        \n",
    "    def __str__(self):\n",
    "        return '({},{})'.format(self.x, self.y)\n",
    "    \n",
    "    def __add__(self, other):\n",
    "        return Point(self.x + other.x, self.y + other.y)\n",
    "    \n",
    "m = Point(6, 4)\n",
    "n = Point(1, 2)\n",
    "print m + n"
   ]
  },
  {
   "cell_type": "code",
   "execution_count": null,
   "metadata": {
    "collapsed": true
   },
   "outputs": [],
   "source": []
  },
  {
   "cell_type": "markdown",
   "metadata": {
    "is_question": true,
    "problem": "Exercise 17.7"
   },
   "source": [
    "### Exercise 7  \n",
    "\n",
    "This exercise is a cautionary tale about one of the most common, and difficult to find, errors in Python. Write a definition for a class named `Kangaroo` with the following methods:\n",
    "\n",
    " 1. An `__init__` method that initializes an attribute named `pouch_contents` to an empty list.\n",
    " 2. A method named `put_in_pouch` that takes an object of any type and adds it to `pouch_contents`.\n",
    " 3. A `__str__` method that returns a string representation of the `Kangaroo` object and the contents of the pouch.\n",
    "\n",
    "Test your code by creating two `Kangaroo` objects, assigning them to variables named `kanga` and `roo`, and then adding `roo` to the contents of `kanga`’s pouch.\n",
    "\n",
    "Download http://thinkpython.com/code/BadKangaroo.py. It contains a solution to the previous problem with one big, nasty bug. Find and fix the bug.\n",
    "\n",
    "If you get stuck, you can download http://thinkpython.com/code/GoodKangaroo.py, which explains the problem and demonstrates a solution. "
   ]
  },
  {
   "cell_type": "code",
   "execution_count": 55,
   "metadata": {
    "collapsed": false,
    "solution": "Exercise 17.7"
   },
   "outputs": [
    {
     "name": "stdout",
     "output_type": "stream",
     "text": [
      "<__main__.Kangaroo object at 0x7efd300fc2d0> having in its pouch:\n",
      "    'skewer'\n",
      "    <__main__.Kangaroo object at 0x7efd300fce10>\n"
     ]
    }
   ],
   "source": [
    "class Kangaroo(object):\n",
    "    \"\"\"has a list of pouch_contents\n",
    "    \"\"\"\n",
    "    \n",
    "    def __init__(self, pouch_contents=None):\n",
    "        if pouch_contents:\n",
    "            self.pouch_contents = []\n",
    "        else:\n",
    "            self.pouch_contents = [pouch_contents]\n",
    "        \n",
    "    def __str__(self):\n",
    "        x = [ object.__str__(self) + ' having in its pouch:' ]\n",
    "        for obj in self.pouch_contents:\n",
    "            y = '    ' + object.__str__(obj)\n",
    "            x.append(y)\n",
    "        return '\\n'.join(x)\n",
    "    \n",
    "    def put_in_pouch(self, item):\n",
    "        self.pouch_contents.append(item)\n",
    "\n",
    "\n",
    "kanga = Kangaroo('bag')\n",
    "kanga.put_in_pouch('skewer')\n",
    "roo = Kangaroo()\n",
    "roo.put_in_pouch('baby')\n",
    "kanga.put_in_pouch(roo)\n",
    "print kanga"
   ]
  },
  {
   "cell_type": "markdown",
   "metadata": {
    "is_question": true,
    "problem": "Time spent"
   },
   "source": [
    "## Quick poll\n",
    "About how long did you spend working on this Reading Journal?"
   ]
  },
  {
   "cell_type": "markdown",
   "metadata": {
    "poll_response": true,
    "solution": "Time spent"
   },
   "source": [
    "100 minutes, ish "
   ]
  },
  {
   "cell_type": "markdown",
   "metadata": {
    "is_question": true,
    "problem": "Feedback"
   },
   "source": [
    "## Reading Journal feedback\n",
    "\n",
    "Have any comments on this Reading Journal? Feel free to leave them below and we'll read them when you submit your journal entry. This could include suggestions to improve the exercises, topics you'd like to see covered in class next time, or other feedback.\n",
    "\n",
    "If you have Python questions or run into problems while completing the reading, you should post them to Piazza instead so you can get a quick response before your journal is submitted."
   ]
  },
  {
   "cell_type": "markdown",
   "metadata": {
    "feedback_response": true,
    "solution": "Feedback"
   },
   "source": [
    " "
   ]
  }
 ],
 "metadata": {
  "celltoolbar": "Edit Metadata",
  "kernelspec": {
   "display_name": "Python 2",
   "language": "python",
   "name": "python2"
  },
  "language_info": {
   "codemirror_mode": {
    "name": "ipython",
    "version": 2
   },
   "file_extension": ".py",
   "mimetype": "text/x-python",
   "name": "python",
   "nbconvert_exporter": "python",
   "pygments_lexer": "ipython2",
   "version": "2.7.6"
  }
 },
 "nbformat": 4,
 "nbformat_minor": 0
}
